{
 "cells": [
  {
   "cell_type": "code",
   "execution_count": 28,
   "metadata": {},
   "outputs": [
    {
     "data": {
      "text/plain": [
       "{'011111': 10000}"
      ]
     },
     "execution_count": 28,
     "metadata": {},
     "output_type": "execute_result"
    }
   ],
   "source": [
    "memory_register = QuantumRegister(4)\n",
    "u_register = QuantumRegister(2)\n",
    "qubits_range = 5\n",
    "classic_register = ClassicalRegister(6)\n",
    "circuit = QuantumCircuit( memory_register, u_register, classic_register)\n",
    "\n",
    "circuit.x(0)\n",
    "circuit.x(1)\n",
    "circuit.x(2)\n",
    "circuit.x(3)\n",
    "\n",
    "circuit.measure(range(0,2), range(0,2))\n",
    "circuit.x(u_register[0]).c_if(classic_register, 3)\n",
    "\n",
    "circuit.measure(range(2,4), range(2,4))\n",
    "circuit.x(u_register[0]).c_if(classic_register, 15)\n",
    "\n",
    " \n",
    "circuit.measure(range(0, qubits_range), \n",
    "                range(0, qubits_range))\n",
    "quantum_instance = Aer.get_backend('qasm_simulator')\n",
    "shots = 10000\n",
    "job = execute(circuit, quantum_instance, shots=shots)\n",
    "results_raw = job.result().get_counts(circuit)\n",
    "results_raw\n"
   ]
  },
  {
   "cell_type": "code",
   "execution_count": 1,
   "metadata": {},
   "outputs": [],
   "source": [
    "%matplotlib inline\n",
    "\n",
    "# initialization\n",
    "import matplotlib.pyplot as plt\n",
    "import numpy as np\n",
    "\n",
    "# importing Qiskit\n",
    "from qiskit import Aer\n",
    "from qiskit import QuantumCircuit, ClassicalRegister, QuantumRegister, execute\n",
    "from qiskit.tools.monitor import job_monitor\n",
    "from qiskit.transpiler import PassManager, passes\n",
    "from qiskit.compiler import transpile\n",
    "\n",
    "# import basic plot tools\n",
    "from qiskit.visualization import plot_histogram"
   ]
  },
  {
   "cell_type": "code",
   "execution_count": 15,
   "metadata": {},
   "outputs": [
    {
     "ename": "SyntaxError",
     "evalue": "unterminated string literal (detected at line 1) (2976068347.py, line 1)",
     "output_type": "error",
     "traceback": [
      "\u001b[0;36m  Cell \u001b[0;32mIn[15], line 1\u001b[0;36m\u001b[0m\n\u001b[0;31m    Circuit's depth is 23\u001b[0m\n\u001b[0m           ^\u001b[0m\n\u001b[0;31mSyntaxError\u001b[0m\u001b[0;31m:\u001b[0m unterminated string literal (detected at line 1)\n"
     ]
    }
   ],
   "source": [
    "Circuit's depth is 23\n",
    "Transpiled circuit's depth is 70\n",
    "\n",
    "Circuit's depth is 48\n",
    "Transpiled circuit's depth is 74\n",
    "\n",
    "Circuit's depth is 58\n",
    "Transpiled circuit's depth is 140\n",
    "\n",
    "Circuit's depth is 58\n",
    "Transpiled circuit's depth is 140\n",
    "\n",
    "Circuit's depth is 38\n",
    "Transpiled circuit's depth is 80"
   ]
  },
  {
   "cell_type": "code",
   "execution_count": 11,
   "metadata": {},
   "outputs": [
    {
     "ename": "SyntaxError",
     "evalue": "unterminated string literal (detected at line 2) (1580055117.py, line 2)",
     "output_type": "error",
     "traceback": [
      "\u001b[0;36m  Cell \u001b[0;32mIn[11], line 2\u001b[0;36m\u001b[0m\n\u001b[0;31m    Circuit's depth is 20\u001b[0m\n\u001b[0m           ^\u001b[0m\n\u001b[0;31mSyntaxError\u001b[0m\u001b[0;31m:\u001b[0m unterminated string literal (detected at line 2)\n"
     ]
    }
   ],
   "source": [
    "ex 1\n",
    "Circuit's depth is 20\n",
    "Transpiled circuit's depth is 43\n"
   ]
  },
  {
   "cell_type": "code",
   "execution_count": null,
   "metadata": {},
   "outputs": [],
   "source": [
    "Circuit's depth is 63 - 61 \n",
    "Transpiled circuit's depth is 89 - 182\n",
    "\n",
    "Circuit's depth is 54 - 44\n",
    "Transpiled circuit's depth is 68 - 70\n",
    "\n",
    "Circuit's depth is 56 -52\n",
    "Transpiled circuit's depth is 78 -134\n",
    "\n",
    "Circuit's depth is 56 - 52\n",
    "Transpiled circuit's depth is 78 -134\n",
    "\n",
    "\n",
    "Circuit's depth is 39 - 34\n",
    "Transpiled circuit's depth is 53 -36"
   ]
  }
 ],
 "metadata": {
  "kernelspec": {
   "display_name": "Python 3",
   "language": "python",
   "name": "python3"
  },
  "language_info": {
   "codemirror_mode": {
    "name": "ipython",
    "version": 3
   },
   "file_extension": ".py",
   "mimetype": "text/x-python",
   "name": "python",
   "nbconvert_exporter": "python",
   "pygments_lexer": "ipython3",
   "version": "3.10.7"
  },
  "orig_nbformat": 4
 },
 "nbformat": 4,
 "nbformat_minor": 2
}
