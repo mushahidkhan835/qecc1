{
 "cells": [
  {
   "cell_type": "markdown",
   "metadata": {
    "pycharm": {
     "name": "#%% md\n"
    }
   },
   "source": [
    "# Exploration of Statevectors\n",
    "\n",
    "I have created a set of functions in `explore_statevectors.py` that generate sparse and dense statevectors without the need to evolve the states.\n"
   ]
  },
  {
   "cell_type": "code",
   "execution_count": 1,
   "metadata": {
    "pycharm": {
     "name": "#%%\n"
    }
   },
   "outputs": [],
   "source": [
    "from create_statevector import CreateStatevector"
   ]
  },
  {
   "cell_type": "markdown",
   "metadata": {
    "pycharm": {
     "name": "#%% md\n"
    }
   },
   "source": [
    "Right now, to create the statevectors we simply map a binary string to an index in the Statevector. The number of operation required to do this mapping is proportional to $O(rn)$ where $r$ is the number of objects (a.k.a. strings, a.k.a. patterns) in the database and $n$ is the number of bits required to represent an object.\n",
    "\n",
    "Here is an example of a database with $r=2$ and $n=3$."
   ]
  },
  {
   "cell_type": "code",
   "execution_count": 2,
   "metadata": {
    "pycharm": {
     "name": "#%%\n"
    }
   },
   "outputs": [],
   "source": [
    "db = ['011', '111']"
   ]
  },
  {
   "cell_type": "markdown",
   "metadata": {
    "pycharm": {
     "name": "#%% md\n"
    }
   },
   "source": [
    "The indexes of non-zero elements in the statevector will be"
   ]
  },
  {
   "cell_type": "code",
   "execution_count": 3,
   "metadata": {
    "pycharm": {
     "name": "#%%\n"
    }
   },
   "outputs": [
    {
     "data": {
      "text/plain": "[3, 7]"
     },
     "execution_count": 3,
     "metadata": {},
     "output_type": "execute_result"
    }
   ],
   "source": [
    "non_zero_statevector_indexes = CreateStatevector.convert_db_to_statevector_indexes(db)\n",
    "non_zero_statevector_indexes"
   ]
  },
  {
   "cell_type": "markdown",
   "metadata": {
    "pycharm": {
     "name": "#%% md\n"
    }
   },
   "source": [
    "Note that the range of indexes for a statevector in this example is $[0, 7]$\n",
    "\n",
    "The normalization factor in this case is simply based on the number of objects in the database:"
   ]
  },
  {
   "cell_type": "code",
   "execution_count": 4,
   "metadata": {
    "pycharm": {
     "name": "#%%\n"
    }
   },
   "outputs": [
    {
     "data": {
      "text/plain": "0.7071067811865475"
     },
     "execution_count": 4,
     "metadata": {},
     "output_type": "execute_result"
    }
   ],
   "source": [
    "CreateStatevector.get_normalization_factor(len(db))"
   ]
  },
  {
   "cell_type": "markdown",
   "metadata": {
    "pycharm": {
     "name": "#%% md\n"
    }
   },
   "source": [
    "Once we have the vector of indexes for objects in our database (obtained using `convert_db_to_statevector_indexes`), we need to convert it to a statevector.\n",
    "\n",
    "## Dense statevector\n",
    "In the case of dense statevector representation (using QisKit's `Statevector` class) we will need $O(2^n)$ units of memory. Technically, we will also need $O(2^n)$ operations on the classical computer to construct this dense statevector.\n",
    "\n"
   ]
  },
  {
   "cell_type": "code",
   "execution_count": 5,
   "metadata": {
    "pycharm": {
     "name": "#%%\n"
    }
   },
   "outputs": [
    {
     "name": "stdout",
     "output_type": "stream",
     "text": [
      "Statevector([0.        +0.j, 0.        +0.j, 0.        +0.j,\n",
      "             0.70710678+0.j, 0.        +0.j, 0.        +0.j,\n",
      "             0.        +0.j, 0.70710678+0.j],\n",
      "            dims=(2, 2, 2))\n"
     ]
    }
   ],
   "source": [
    "qubits_count = len(db[0])\n",
    "dense_statevector = CreateStatevector.create_dense_statevector(non_zero_statevector_indexes, qubits_count)\n",
    "dense_statevector"
   ]
  },
  {
   "cell_type": "markdown",
   "metadata": {
    "pycharm": {
     "name": "#%% md\n"
    }
   },
   "source": [
    "Note that the normalization factor is computed within `create_dense_statevector` -- no need to pass it explicitly.\n",
    "\n",
    "Let us now construct the circuit."
   ]
  },
  {
   "cell_type": "code",
   "execution_count": 6,
   "metadata": {
    "pycharm": {
     "name": "#%%\n"
    }
   },
   "outputs": [
    {
     "name": "stdout",
     "output_type": "stream",
     "text": [
      "     ┌──────────────────────────────────────────┐\n",
      "q_0: ┤0                                         ├\n",
      "     │                                          │\n",
      "q_1: ┤1 Initialize(0,0,0,0.70711,0,0,0,0.70711) ├\n",
      "     │                                          │\n",
      "q_2: ┤2                                         ├\n",
      "     └──────────────────────────────────────────┘\n"
     ]
    }
   ],
   "source": [
    "from qiskit import QuantumCircuit\n",
    "qc = QuantumCircuit(qubits_count)  # Create a quantum circuit with one qubit\n",
    "qc.initialize(dense_statevector, qc.qubits)  # Initialize the circuit\n",
    "print(qc)"
   ]
  },
  {
   "cell_type": "markdown",
   "metadata": {
    "pycharm": {
     "name": "#%% md\n"
    }
   },
   "source": [
    "Let's verify the initialization using the simulator"
   ]
  },
  {
   "cell_type": "code",
   "execution_count": 7,
   "metadata": {
    "pycharm": {
     "name": "#%%\n"
    }
   },
   "outputs": [
    {
     "name": "stdout",
     "output_type": "stream",
     "text": [
      "The output state vector is\n",
      "Statevector([0.        +0.j, 0.        +0.j, 0.        +0.j,\n",
      "             0.70710678+0.j, 0.        +0.j, 0.        +0.j,\n",
      "             0.        +0.j, 0.70710678+0.j],\n",
      "            dims=(2, 2, 2))\n",
      "The output p-values are {'011': 0.5, '111': 0.5}\n"
     ]
    }
   ],
   "source": [
    "from qiskit import Aer, execute\n",
    "sim = Aer.get_backend('aer_simulator')\n",
    "qc.save_statevector()  # Tell simulator to save statevector\n",
    "result = execute(qc, sim).result()  # Do the simulation and return the result\n",
    "out_state = result.get_statevector()\n",
    "print(f\"The output state vector is\\n{out_state}\")\n",
    "out_counts = result.get_counts()\n",
    "print(f\"The output p-values are {out_counts}\")"
   ]
  },
  {
   "cell_type": "markdown",
   "metadata": {},
   "source": [
    "Dense statevector and the results of the simulator are correct."
   ]
  },
  {
   "cell_type": "markdown",
   "source": [
    "### Transpile on a simulator\n",
    "Let's transpile the circuit for a simulator."
   ],
   "metadata": {
    "collapsed": false,
    "pycharm": {
     "name": "#%% md\n"
    }
   }
  },
  {
   "cell_type": "code",
   "execution_count": 8,
   "outputs": [
    {
     "data": {
      "text/plain": "<Figure size 267.197x204.68 with 1 Axes>",
      "image/png": "[encoded data removed]"
     },
     "execution_count": 8,
     "metadata": {},
     "output_type": "execute_result"
    }
   ],
   "source": [
    "from qiskit.test.mock import FakeQasmSimulator\n",
    "from qiskit.compiler import transpile\n",
    "backend_architecture = FakeQasmSimulator()\n",
    "cfg = backend_architecture.configuration()\n",
    "qc = QuantumCircuit(qubits_count)  # Create a quantum circuit with one qubit\n",
    "qc.initialize(dense_statevector, qc.qubits)  # Initialize the circuit\n",
    "optimized_circuit = transpile(qc, coupling_map=cfg.coupling_map, basis_gates=['u1', 'u2', 'u3', 'cx'], optimization_level=3)\n",
    "optimized_circuit.draw(output='mpl')"
   ],
   "metadata": {
    "collapsed": false,
    "pycharm": {
     "name": "#%%\n"
    }
   }
  },
  {
   "cell_type": "markdown",
   "source": [
    "And the summary of the gates in this circuit as follows:"
   ],
   "metadata": {
    "collapsed": false,
    "pycharm": {
     "name": "#%% md\n"
    }
   }
  },
  {
   "cell_type": "code",
   "execution_count": 9,
   "outputs": [
    {
     "data": {
      "text/plain": "OrderedDict([('u2', 5), ('cx', 1)])"
     },
     "execution_count": 9,
     "metadata": {},
     "output_type": "execute_result"
    }
   ],
   "source": [
    "optimized_circuit.count_ops()"
   ],
   "metadata": {
    "collapsed": false,
    "pycharm": {
     "name": "#%%\n"
    }
   }
  },
  {
   "cell_type": "markdown",
   "source": [
    "### Transpile on a real device\n",
    "Let's transpile the circuit for a real 5-qubit  and see the gates."
   ],
   "metadata": {
    "collapsed": false
   }
  },
  {
   "cell_type": "code",
   "execution_count": 10,
   "outputs": [
    {
     "data": {
      "text/plain": "<Figure size 480.186x325.08 with 1 Axes>",
      "image/png": "[encoded data removed]"
     },
     "execution_count": 10,
     "metadata": {},
     "output_type": "execute_result"
    }
   ],
   "source": [
    "from qiskit.test.mock import FakeTenerife\n",
    "from qiskit.compiler import transpile\n",
    "backend_architecture = FakeTenerife()\n",
    "cfg = backend_architecture.configuration()\n",
    "qc = QuantumCircuit(qubits_count)  # Create a quantum circuit with one qubit\n",
    "qc.initialize(dense_statevector, qc.qubits)  # Initialize the circuit\n",
    "optimized_circuit = transpile(qc, coupling_map=cfg.coupling_map, basis_gates=cfg.basis_gates, optimization_level=3)\n",
    "optimized_circuit.draw(output='mpl')"
   ],
   "metadata": {
    "collapsed": false,
    "pycharm": {
     "name": "#%%\n"
    }
   }
  },
  {
   "cell_type": "markdown",
   "source": [
    "And the summary of the gates in this circuit as follows:"
   ],
   "metadata": {
    "collapsed": false,
    "pycharm": {
     "name": "#%% md\n"
    }
   }
  },
  {
   "cell_type": "code",
   "execution_count": 11,
   "outputs": [
    {
     "data": {
      "text/plain": "OrderedDict([('u3', 3), ('cx', 1), ('u1', 1), ('u2', 1)])"
     },
     "execution_count": 11,
     "metadata": {},
     "output_type": "execute_result"
    }
   ],
   "source": [
    "optimized_circuit.count_ops()"
   ],
   "metadata": {
    "collapsed": false,
    "pycharm": {
     "name": "#%%\n"
    }
   }
  },
  {
   "cell_type": "markdown",
   "metadata": {},
   "source": [
    "## Sparse statevector\n",
    "Let us now look at the sparse statevector\n"
   ]
  },
  {
   "cell_type": "markdown",
   "metadata": {
    "pycharm": {
     "name": "#%% md\n"
    }
   },
   "source": [
    "If we leverage the sparse representation of the statevector (using QisKit's `SparseVectorStateFn` class) we will need only $O(r)$ units of memory. The computation time needed to construct the sparse vector is also $O(r)$."
   ]
  },
  {
   "cell_type": "code",
   "execution_count": 12,
   "metadata": {
    "pycharm": {
     "name": "#%%\n"
    }
   },
   "outputs": [
    {
     "name": "stdout",
     "output_type": "stream",
     "text": [
      "SparseVectorStateFn(  (0, 3)\t0.7071067811865475\n",
      "  (0, 7)\t0.7071067811865475)\n"
     ]
    }
   ],
   "source": [
    "sparse_statevector = CreateStatevector.create_sparse_statevector(non_zero_statevector_indexes, qubits_count)\n",
    "print(sparse_statevector)"
   ]
  },
  {
   "cell_type": "markdown",
   "metadata": {
    "pycharm": {
     "name": "#%% md\n"
    }
   },
   "source": [
    "As we can see `sparse_statevector` captures only non-zero elements.\n",
    "\n",
    "Existing QisKit code cannot directly call `qc.initialize(sparse_statevector, qc.qubits)`. However, I was able to alter the QisKit code to construct the circuit. The catch is at the end of the day it needs to convert the sparse representation to dense one, and we end up with the same operator `Initialize(0,0,0,0.70710678,0,0,0,0.70710678)`.\n",
    "\n",
    "Then I went deeper trying to understand what this operator does. Technically it translates to QASM command\n",
    "```python\n",
    "initialize(0,0,0,0.70710678,0,0,0,0.70710678) q[0],q[1],q[2];\n",
    "```\n",
    "\n",
    "So now we need to understand what exactly `initialize` command does and if it really needs all the zeroes.\n",
    "\n",
    "This took me to the [following](https://github.com/Qiskit/qiskit-tutorials/blob/master/tutorials/circuits/3_summary_of_quantum_operations.ipynb) QisKit tutorial. If you look at line 85 of the tutorial (the section is titled \"Further details\"), it says that QisKit uses a method of [Shende et al.](https://arxiv.org/abs/quant-ph/0406176) The method boils down to factorization of the state vector (see the tutorial for details).\n",
    "\n",
    "Unfortunately, I need to get back to prepping my undergrad courses. Thus, **Mushahid**, would be so kind as to take it further and create a concrete example of how the factorization works? We can probably start with the 2-qubit rather than 3-qubit system, to make the algebra easier. Given that most of our states will have $\\alpha_\\cdot = 0$, I suspect that the equations can be greatly simplified."
   ]
  },
  {
   "cell_type": "code",
   "execution_count": 12,
   "metadata": {
    "pycharm": {
     "name": "#%%\n"
    }
   },
   "outputs": [],
   "source": []
  }
 ],
 "metadata": {
  "kernelspec": {
   "display_name": "Python 3 (ipykernel)",
   "language": "python",
   "name": "python3"
  },
  "language_info": {
   "codemirror_mode": {
    "name": "ipython",
    "version": 3
   },
   "file_extension": ".py",
   "mimetype": "text/x-python",
   "name": "python",
   "nbconvert_exporter": "python",
   "pygments_lexer": "ipython3",
   "version": "3.9.7"
  }
 },
 "nbformat": 4,
 "nbformat_minor": 1
}