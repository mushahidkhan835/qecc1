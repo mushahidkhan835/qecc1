{
 "cells": [
  {
   "cell_type": "markdown",
   "metadata": {
    "tags": []
   },
   "source": [
    "# Covariance of the shots count\n",
    "Let us explore the covariance of the shots count\n",
    "for different strings. We will repeat string search\n",
    "`experiments_count` times and save the shots count for\n",
    "each string and experiment in `experiments_shots_count`.\n",
    "Let's run the experiment 100 times:"
   ]
  },
  {
   "cell_type": "code",
   "execution_count": 4,
   "metadata": {
    "pycharm": {
     "name": "#%%\n"
    },
    "tags": []
   },
   "outputs": [
    {
     "data": {
      "text/html": [
       "<div>\n",
       "<style scoped>\n",
       "    .dataframe tbody tr th:only-of-type {\n",
       "        vertical-align: middle;\n",
       "    }\n",
       "\n",
       "    .dataframe tbody tr th {\n",
       "        vertical-align: top;\n",
       "    }\n",
       "\n",
       "    .dataframe thead th {\n",
       "        text-align: right;\n",
       "    }\n",
       "</style>\n",
       "<table border=\"1\" class=\"dataframe\">\n",
       "  <thead>\n",
       "    <tr style=\"text-align: right;\">\n",
       "      <th></th>\n",
       "      <th>01001</th>\n",
       "      <th>11010</th>\n",
       "      <th>01110</th>\n",
       "      <th>10110</th>\n",
       "    </tr>\n",
       "  </thead>\n",
       "  <tbody>\n",
       "    <tr>\n",
       "      <th>0</th>\n",
       "      <td>0.0</td>\n",
       "      <td>1274.0</td>\n",
       "      <td>1320.0</td>\n",
       "      <td>2030.0</td>\n",
       "    </tr>\n",
       "    <tr>\n",
       "      <th>1</th>\n",
       "      <td>0.0</td>\n",
       "      <td>1335.0</td>\n",
       "      <td>1259.0</td>\n",
       "      <td>2050.0</td>\n",
       "    </tr>\n",
       "    <tr>\n",
       "      <th>2</th>\n",
       "      <td>0.0</td>\n",
       "      <td>1408.0</td>\n",
       "      <td>1302.0</td>\n",
       "      <td>2027.0</td>\n",
       "    </tr>\n",
       "    <tr>\n",
       "      <th>3</th>\n",
       "      <td>0.0</td>\n",
       "      <td>1379.0</td>\n",
       "      <td>1298.0</td>\n",
       "      <td>2076.0</td>\n",
       "    </tr>\n",
       "    <tr>\n",
       "      <th>4</th>\n",
       "      <td>0.0</td>\n",
       "      <td>1373.0</td>\n",
       "      <td>1314.0</td>\n",
       "      <td>2069.0</td>\n",
       "    </tr>\n",
       "    <tr>\n",
       "      <th>...</th>\n",
       "      <td>...</td>\n",
       "      <td>...</td>\n",
       "      <td>...</td>\n",
       "      <td>...</td>\n",
       "    </tr>\n",
       "    <tr>\n",
       "      <th>95</th>\n",
       "      <td>0.0</td>\n",
       "      <td>1372.0</td>\n",
       "      <td>1314.0</td>\n",
       "      <td>2009.0</td>\n",
       "    </tr>\n",
       "    <tr>\n",
       "      <th>96</th>\n",
       "      <td>0.0</td>\n",
       "      <td>1324.0</td>\n",
       "      <td>1368.0</td>\n",
       "      <td>2092.0</td>\n",
       "    </tr>\n",
       "    <tr>\n",
       "      <th>97</th>\n",
       "      <td>0.0</td>\n",
       "      <td>1346.0</td>\n",
       "      <td>1361.0</td>\n",
       "      <td>1999.0</td>\n",
       "    </tr>\n",
       "    <tr>\n",
       "      <th>98</th>\n",
       "      <td>0.0</td>\n",
       "      <td>1366.0</td>\n",
       "      <td>1300.0</td>\n",
       "      <td>2057.0</td>\n",
       "    </tr>\n",
       "    <tr>\n",
       "      <th>99</th>\n",
       "      <td>0.0</td>\n",
       "      <td>1342.0</td>\n",
       "      <td>1315.0</td>\n",
       "      <td>2023.0</td>\n",
       "    </tr>\n",
       "  </tbody>\n",
       "</table>\n",
       "<p>100 rows × 4 columns</p>\n",
       "</div>"
      ],
      "text/plain": [
       "    01001   11010   01110   10110\n",
       "0     0.0  1274.0  1320.0  2030.0\n",
       "1     0.0  1335.0  1259.0  2050.0\n",
       "2     0.0  1408.0  1302.0  2027.0\n",
       "3     0.0  1379.0  1298.0  2076.0\n",
       "4     0.0  1373.0  1314.0  2069.0\n",
       "..    ...     ...     ...     ...\n",
       "95    0.0  1372.0  1314.0  2009.0\n",
       "96    0.0  1324.0  1368.0  2092.0\n",
       "97    0.0  1346.0  1361.0  1999.0\n",
       "98    0.0  1366.0  1300.0  2057.0\n",
       "99    0.0  1342.0  1315.0  2023.0\n",
       "\n",
       "[100 rows x 4 columns]"
      ]
     },
     "execution_count": 4,
     "metadata": {},
     "output_type": "execute_result"
    }
   ],
   "source": [
    "experiments_count = 100\n",
    "from string_comparison import StringComparator\n",
    "experiments_shots_count = []\n",
    "dataset = ['01001', '11010', '01110', '10110']\n",
    "x = StringComparator('10110', dataset, symbol_length=1)\n",
    "for _ in range (experiments_count):\n",
    "    results = x.run()\n",
    "    experiment_shots_count = []\n",
    "    for p_val in results['p_values']:\n",
    "        # reconstruct shots count from the p-values\n",
    "        experiment_shots_count.append(\n",
    "            p_val * results['prob_of_measuring_register_c_as_0'] * results['useful_shots_count'])\n",
    "\n",
    "    experiments_shots_count.append(experiment_shots_count)\n",
    "\n",
    "# Convert shots stats to Pandas DataFrame\n",
    "import pandas as pd\n",
    "experiments_shots_count = pd.DataFrame(experiments_shots_count)\n",
    "experiments_shots_count.columns = dataset\n",
    "experiments_shots_count"
   ]
  },
  {
   "cell_type": "markdown",
   "metadata": {},
   "source": [
    "Now let us compute the covariance matrix:"
   ]
  },
  {
   "cell_type": "code",
   "execution_count": 5,
   "metadata": {
    "collapsed": false,
    "jupyter": {
     "outputs_hidden": false
    },
    "pycharm": {
     "name": "#%%\n"
    }
   },
   "outputs": [
    {
     "data": {
      "text/html": [
       "<div>\n",
       "<style scoped>\n",
       "    .dataframe tbody tr th:only-of-type {\n",
       "        vertical-align: middle;\n",
       "    }\n",
       "\n",
       "    .dataframe tbody tr th {\n",
       "        vertical-align: top;\n",
       "    }\n",
       "\n",
       "    .dataframe thead th {\n",
       "        text-align: right;\n",
       "    }\n",
       "</style>\n",
       "<table border=\"1\" class=\"dataframe\">\n",
       "  <thead>\n",
       "    <tr style=\"text-align: right;\">\n",
       "      <th></th>\n",
       "      <th>01001</th>\n",
       "      <th>11010</th>\n",
       "      <th>01110</th>\n",
       "      <th>10110</th>\n",
       "    </tr>\n",
       "  </thead>\n",
       "  <tbody>\n",
       "    <tr>\n",
       "      <th>01001</th>\n",
       "      <td>0.0</td>\n",
       "      <td>0.000000</td>\n",
       "      <td>0.000000</td>\n",
       "      <td>0.000000</td>\n",
       "    </tr>\n",
       "    <tr>\n",
       "      <th>11010</th>\n",
       "      <td>0.0</td>\n",
       "      <td>947.483939</td>\n",
       "      <td>-235.188788</td>\n",
       "      <td>-272.677677</td>\n",
       "    </tr>\n",
       "    <tr>\n",
       "      <th>01110</th>\n",
       "      <td>0.0</td>\n",
       "      <td>-235.188788</td>\n",
       "      <td>1087.774848</td>\n",
       "      <td>-328.360505</td>\n",
       "    </tr>\n",
       "    <tr>\n",
       "      <th>10110</th>\n",
       "      <td>0.0</td>\n",
       "      <td>-272.677677</td>\n",
       "      <td>-328.360505</td>\n",
       "      <td>1570.393030</td>\n",
       "    </tr>\n",
       "  </tbody>\n",
       "</table>\n",
       "</div>"
      ],
      "text/plain": [
       "       01001       11010        01110        10110\n",
       "01001    0.0    0.000000     0.000000     0.000000\n",
       "11010    0.0  947.483939  -235.188788  -272.677677\n",
       "01110    0.0 -235.188788  1087.774848  -328.360505\n",
       "10110    0.0 -272.677677  -328.360505  1570.393030"
      ]
     },
     "execution_count": 5,
     "metadata": {},
     "output_type": "execute_result"
    }
   ],
   "source": [
    "cov_shots = pd.DataFrame.cov(experiments_shots_count)\n",
    "cov_shots"
   ]
  },
  {
   "cell_type": "markdown",
   "metadata": {},
   "source": [
    "And visualize the covariance matrix:\n"
   ]
  },
  {
   "cell_type": "code",
   "execution_count": 6,
   "metadata": {
    "collapsed": false,
    "jupyter": {
     "outputs_hidden": false
    },
    "pycharm": {
     "name": "#%%\n"
    }
   },
   "outputs": [
    {
     "data": {
      "image/png": "[encoded data removed]",
      "text/plain": [
       "<Figure size 432x288 with 2 Axes>"
      ]
     },
     "metadata": {
      "needs_background": "light"
     },
     "output_type": "display_data"
    }
   ],
   "source": [
    "import seaborn\n",
    "import matplotlib.pyplot as plt\n",
    "seaborn.heatmap(cov_shots, annot=True, fmt='g')\n",
    "plt.show()"
   ]
  },
  {
   "cell_type": "markdown",
   "metadata": {},
   "source": [
    "The empirical covariance matrix suggests that individual variables are correlated.\n",
    "The non-diagonal terms are a magnitude smaller than the diagonal ones, but I am not certain if we\n",
    "can discard them. Let's compare the variance with and without the non-diagonal terms:\n",
    "\n",
    "First, let's assume that the variables are uncorrelated and that the non-diagonal terms\n",
    "can be discarded:"
   ]
  },
  {
   "cell_type": "code",
   "execution_count": 7,
   "metadata": {
    "collapsed": false,
    "jupyter": {
     "outputs_hidden": false
    },
    "pycharm": {
     "name": "#%%\n"
    }
   },
   "outputs": [
    {
     "data": {
      "text/plain": [
       "3605.651818181819"
      ]
     },
     "execution_count": 7,
     "metadata": {},
     "output_type": "execute_result"
    }
   ],
   "source": [
    "cov_shots.values.diagonal().sum()"
   ]
  },
  {
   "cell_type": "markdown",
   "metadata": {},
   "source": [
    "Now, let's assume that the variables are correlated and that the non-diagonal terms\n",
    "are retained:"
   ]
  },
  {
   "cell_type": "code",
   "execution_count": 8,
   "metadata": {
    "collapsed": false,
    "jupyter": {
     "outputs_hidden": false
    },
    "pycharm": {
     "name": "#%%\n"
    }
   },
   "outputs": [
    {
     "data": {
      "text/plain": [
       "1933.1978787878788"
      ]
     },
     "execution_count": 8,
     "metadata": {},
     "output_type": "execute_result"
    }
   ],
   "source": [
    "cov_shots.values.sum()"
   ]
  },
  {
   "cell_type": "markdown",
   "metadata": {},
   "source": [
    "As we can see, it is in our best interest to retain the complete covariance matrix,\n",
    "as it helps to reduce the overall variance by a factor of two.\n",
    "\n",
    "Thus, in this case the variance is\n"
   ]
  },
  {
   "cell_type": "code",
   "execution_count": 9,
   "metadata": {
    "collapsed": false,
    "jupyter": {
     "outputs_hidden": false
    },
    "pycharm": {
     "name": "#%%\n"
    }
   },
   "outputs": [
    {
     "data": {
      "text/plain": [
       "2.8806893211422545e-05"
      ]
     },
     "execution_count": 9,
     "metadata": {},
     "output_type": "execute_result"
    }
   ],
   "source": [
    "1 / pow(results['useful_shots_count'], 2) * cov_shots.values.sum()"
   ]
  },
  {
   "cell_type": "markdown",
   "metadata": {
    "pycharm": {
     "name": "#%% md\n"
    }
   },
   "source": [
    "which would give a tight interval around the `prob_of_measuring_register_c_as_0`.\n"
   ]
  },
  {
   "cell_type": "markdown",
   "metadata": {},
   "source": [
    "# Effect of shots count on the p-values\n",
    "## Small database\n",
    "In the above example we use 8192 shots to compute the variance for a database of four strings.\n",
    "Can we go lower than that? Let us now explore how the p-values change with the number of shots."
   ]
  },
  {
   "cell_type": "code",
   "execution_count": 10,
   "metadata": {
    "collapsed": false,
    "jupyter": {
     "outputs_hidden": false
    },
    "pycharm": {
     "name": "#%%\n"
    }
   },
   "outputs": [
    {
     "data": {
      "text/html": [
       "<div>\n",
       "<style scoped>\n",
       "    .dataframe tbody tr th:only-of-type {\n",
       "        vertical-align: middle;\n",
       "    }\n",
       "\n",
       "    .dataframe tbody tr th {\n",
       "        vertical-align: top;\n",
       "    }\n",
       "\n",
       "    .dataframe thead th {\n",
       "        text-align: right;\n",
       "    }\n",
       "</style>\n",
       "<table border=\"1\" class=\"dataframe\">\n",
       "  <thead>\n",
       "    <tr style=\"text-align: right;\">\n",
       "      <th></th>\n",
       "      <th>shots_count</th>\n",
       "      <th>prob_of_measuring_register_c_as_0</th>\n",
       "    </tr>\n",
       "  </thead>\n",
       "  <tbody>\n",
       "    <tr>\n",
       "      <th>0</th>\n",
       "      <td>1</td>\n",
       "      <td>0.000000</td>\n",
       "    </tr>\n",
       "    <tr>\n",
       "      <th>1</th>\n",
       "      <td>1</td>\n",
       "      <td>1.000000</td>\n",
       "    </tr>\n",
       "    <tr>\n",
       "      <th>2</th>\n",
       "      <td>1</td>\n",
       "      <td>0.000000</td>\n",
       "    </tr>\n",
       "    <tr>\n",
       "      <th>3</th>\n",
       "      <td>1</td>\n",
       "      <td>1.000000</td>\n",
       "    </tr>\n",
       "    <tr>\n",
       "      <th>4</th>\n",
       "      <td>1</td>\n",
       "      <td>1.000000</td>\n",
       "    </tr>\n",
       "    <tr>\n",
       "      <th>...</th>\n",
       "      <td>...</td>\n",
       "      <td>...</td>\n",
       "    </tr>\n",
       "    <tr>\n",
       "      <th>995</th>\n",
       "      <td>900</td>\n",
       "      <td>0.571111</td>\n",
       "    </tr>\n",
       "    <tr>\n",
       "      <th>996</th>\n",
       "      <td>900</td>\n",
       "      <td>0.595556</td>\n",
       "    </tr>\n",
       "    <tr>\n",
       "      <th>997</th>\n",
       "      <td>900</td>\n",
       "      <td>0.573333</td>\n",
       "    </tr>\n",
       "    <tr>\n",
       "      <th>998</th>\n",
       "      <td>900</td>\n",
       "      <td>0.585556</td>\n",
       "    </tr>\n",
       "    <tr>\n",
       "      <th>999</th>\n",
       "      <td>900</td>\n",
       "      <td>0.571111</td>\n",
       "    </tr>\n",
       "  </tbody>\n",
       "</table>\n",
       "<p>1000 rows × 2 columns</p>\n",
       "</div>"
      ],
      "text/plain": [
       "     shots_count  prob_of_measuring_register_c_as_0\n",
       "0              1                           0.000000\n",
       "1              1                           1.000000\n",
       "2              1                           0.000000\n",
       "3              1                           1.000000\n",
       "4              1                           1.000000\n",
       "..           ...                                ...\n",
       "995          900                           0.571111\n",
       "996          900                           0.595556\n",
       "997          900                           0.573333\n",
       "998          900                           0.585556\n",
       "999          900                           0.571111\n",
       "\n",
       "[1000 rows x 2 columns]"
      ]
     },
     "execution_count": 10,
     "metadata": {},
     "output_type": "execute_result"
    }
   ],
   "source": [
    "# number of repetitions\n",
    "experiments_count = 100\n",
    "\n",
    "experiments_p_val = []\n",
    "dataset = ['01001', '11010', '01110', '10110']\n",
    "\n",
    "for shots_count in range(1, 1001, 100):\n",
    "    if shots_count > 1:\n",
    "        shots_count -= 1  # To have nice round numbers\n",
    "    x = StringComparator('10110', dataset, symbol_length=1, shots=shots_count)\n",
    "    for _ in range (experiments_count):\n",
    "        results = x.run()\n",
    "        experiments_p_val.append([shots_count, results['prob_of_measuring_register_c_as_0']])\n",
    "\n",
    "experiments_p_val = pd.DataFrame(experiments_p_val)\n",
    "experiments_p_val.columns = ['shots_count', 'prob_of_measuring_register_c_as_0']\n",
    "experiments_p_val"
   ]
  },
  {
   "cell_type": "markdown",
   "metadata": {
    "pycharm": {
     "name": "#%% md\n"
    }
   },
   "source": [
    "And the summary stats look as follows"
   ]
  },
  {
   "cell_type": "code",
   "execution_count": 11,
   "metadata": {
    "collapsed": false,
    "jupyter": {
     "outputs_hidden": false
    },
    "pycharm": {
     "name": "#%%\n"
    }
   },
   "outputs": [
    {
     "data": {
      "text/html": [
       "<div>\n",
       "<style scoped>\n",
       "    .dataframe tbody tr th:only-of-type {\n",
       "        vertical-align: middle;\n",
       "    }\n",
       "\n",
       "    .dataframe tbody tr th {\n",
       "        vertical-align: top;\n",
       "    }\n",
       "\n",
       "    .dataframe thead th {\n",
       "        text-align: right;\n",
       "    }\n",
       "</style>\n",
       "<table border=\"1\" class=\"dataframe\">\n",
       "  <thead>\n",
       "    <tr style=\"text-align: right;\">\n",
       "      <th></th>\n",
       "      <th>mean</th>\n",
       "      <th>var</th>\n",
       "    </tr>\n",
       "    <tr>\n",
       "      <th>shots_count</th>\n",
       "      <th></th>\n",
       "      <th></th>\n",
       "    </tr>\n",
       "  </thead>\n",
       "  <tbody>\n",
       "    <tr>\n",
       "      <th>1</th>\n",
       "      <td>0.690000</td>\n",
       "      <td>0.216061</td>\n",
       "    </tr>\n",
       "    <tr>\n",
       "      <th>100</th>\n",
       "      <td>0.565800</td>\n",
       "      <td>0.002560</td>\n",
       "    </tr>\n",
       "    <tr>\n",
       "      <th>200</th>\n",
       "      <td>0.575700</td>\n",
       "      <td>0.001137</td>\n",
       "    </tr>\n",
       "    <tr>\n",
       "      <th>300</th>\n",
       "      <td>0.575300</td>\n",
       "      <td>0.000718</td>\n",
       "    </tr>\n",
       "    <tr>\n",
       "      <th>400</th>\n",
       "      <td>0.577175</td>\n",
       "      <td>0.000764</td>\n",
       "    </tr>\n",
       "    <tr>\n",
       "      <th>500</th>\n",
       "      <td>0.578100</td>\n",
       "      <td>0.000642</td>\n",
       "    </tr>\n",
       "    <tr>\n",
       "      <th>600</th>\n",
       "      <td>0.576767</td>\n",
       "      <td>0.000269</td>\n",
       "    </tr>\n",
       "    <tr>\n",
       "      <th>700</th>\n",
       "      <td>0.577686</td>\n",
       "      <td>0.000341</td>\n",
       "    </tr>\n",
       "    <tr>\n",
       "      <th>800</th>\n",
       "      <td>0.574200</td>\n",
       "      <td>0.000342</td>\n",
       "    </tr>\n",
       "    <tr>\n",
       "      <th>900</th>\n",
       "      <td>0.574522</td>\n",
       "      <td>0.000314</td>\n",
       "    </tr>\n",
       "  </tbody>\n",
       "</table>\n",
       "</div>"
      ],
      "text/plain": [
       "                 mean       var\n",
       "shots_count                    \n",
       "1            0.690000  0.216061\n",
       "100          0.565800  0.002560\n",
       "200          0.575700  0.001137\n",
       "300          0.575300  0.000718\n",
       "400          0.577175  0.000764\n",
       "500          0.578100  0.000642\n",
       "600          0.576767  0.000269\n",
       "700          0.577686  0.000341\n",
       "800          0.574200  0.000342\n",
       "900          0.574522  0.000314"
      ]
     },
     "execution_count": 11,
     "metadata": {},
     "output_type": "execute_result"
    }
   ],
   "source": [
    "experiments_p_val.groupby(['shots_count'])['prob_of_measuring_register_c_as_0'].agg(['mean', 'var'])"
   ]
  },
  {
   "cell_type": "markdown",
   "metadata": {},
   "source": [
    "As expected, the variance of the results reduces as we increase the number of shots count.\n",
    "\n",
    "What is the theoretical value of `prob_of_measuring_register_c_as_0`?\n",
    "We know that\n",
    "\\begin{equation}\n",
    "\\alpha_k = \\frac{N}{r} \\cos^2{\\left[\\frac{\\pi}{2z}  D\\left(t,p^k\\right)\\right]}.\n",
    "\\end{equation}\n",
    "In our toy example, the values of $D\\left(t,p^k\\right)$ are 0, 2, 2, and 5. Thus, the $\\alpha$ values are:"
   ]
  },
  {
   "cell_type": "code",
   "execution_count": 12,
   "metadata": {
    "collapsed": false,
    "jupyter": {
     "outputs_hidden": false
    },
    "pycharm": {
     "name": "#%%\n"
    }
   },
   "outputs": [
    {
     "data": {
      "text/plain": [
       "[9.37349864163661e-29, 16362.712429686842, 16362.712429686842, 25000.0]"
      ]
     },
     "execution_count": 12,
     "metadata": {},
     "output_type": "execute_result"
    }
   ],
   "source": [
    "import numpy as np\n",
    "distances = [5, 2, 2, 0]\n",
    "alphas = []\n",
    "theor_shots = 100000.0\n",
    "string_count = len(distances) # let's use some high number\n",
    "string_length = 5\n",
    "for d in distances:\n",
    "    alphas.append(\n",
    "        theor_shots / string_count * pow(np.cos(np.pi / (2 * string_length) * d), 2)\n",
    "    )\n",
    "alphas"
   ]
  },
  {
   "cell_type": "markdown",
   "metadata": {
    "pycharm": {
     "name": "#%% md\n"
    }
   },
   "source": [
    "Given that\n",
    "\\begin{equation}\n",
    "c = \\frac{\\sum_{j=1}^{r}{\\alpha_j}}{N},\n",
    "\\end{equation}\n",
    "an expected value of `prob_of_measuring_register_c_as_0` is"
   ]
  },
  {
   "cell_type": "code",
   "execution_count": 13,
   "metadata": {
    "collapsed": false,
    "jupyter": {
     "outputs_hidden": false
    },
    "pycharm": {
     "name": "#%%\n"
    }
   },
   "outputs": [
    {
     "data": {
      "text/plain": [
       "0.5772542485937369"
      ]
     },
     "execution_count": 13,
     "metadata": {},
     "output_type": "execute_result"
    }
   ],
   "source": [
    "expected_prob_of_measuring_register_c_as_0 = np.array(alphas).sum() / theor_shots\n",
    "expected_prob_of_measuring_register_c_as_0"
   ]
  },
  {
   "cell_type": "markdown",
   "metadata": {
    "pycharm": {
     "name": "#%% md\n"
    }
   },
   "source": [
    "Now let's visualize the results. Red dotted line represents the expected value."
   ]
  },
  {
   "cell_type": "code",
   "execution_count": 14,
   "metadata": {
    "collapsed": false,
    "jupyter": {
     "outputs_hidden": false
    },
    "pycharm": {
     "name": "#%%\n"
    }
   },
   "outputs": [
    {
     "data": {
      "image/png": "[encoded data removed]",
      "text/plain": [
       "<Figure size 432x288 with 1 Axes>"
      ]
     },
     "metadata": {
      "needs_background": "light"
     },
     "output_type": "display_data"
    }
   ],
   "source": [
    "my_plot = seaborn.scatterplot(data=experiments_p_val,\n",
    "                              x='shots_count',\n",
    "                              y='prob_of_measuring_register_c_as_0')\n",
    "my_plot.axhline(expected_prob_of_measuring_register_c_as_0,\n",
    "                color='r', linestyle = '--')\n",
    "plt.show()\n"
   ]
  },
  {
   "cell_type": "markdown",
   "metadata": {
    "pycharm": {
     "name": "#%% md\n"
    }
   },
   "source": [
    "The above scatter plot makes it difficult to see distribution of values for the specific value of `shots_count`.\n",
    "Let's use box-and-whiskers instead.\n"
   ]
  },
  {
   "cell_type": "code",
   "execution_count": 15,
   "metadata": {
    "collapsed": false,
    "jupyter": {
     "outputs_hidden": false
    },
    "pycharm": {
     "name": "#%%\n"
    }
   },
   "outputs": [
    {
     "data": {
      "image/png": "[encoded data removed]",
      "text/plain": [
       "<Figure size 432x288 with 1 Axes>"
      ]
     },
     "metadata": {},
     "output_type": "display_data"
    }
   ],
   "source": [
    "seaborn.set_style(\"whitegrid\")\n",
    "my_plot = seaborn.boxplot(data=experiments_p_val,\n",
    "                              x='shots_count',\n",
    "                              y='prob_of_measuring_register_c_as_0')\n",
    "my_plot.axhline(expected_prob_of_measuring_register_c_as_0,\n",
    "                color='r', linestyle = '--')\n",
    "plt.show()"
   ]
  },
  {
   "cell_type": "markdown",
   "metadata": {
    "pycharm": {
     "name": "#%% md\n"
    }
   },
   "source": [
    "Note that past 300 shots the variance decreases slowly. Let's filter out `shots_count == 1` to zoom in:"
   ]
  },
  {
   "cell_type": "code",
   "execution_count": 16,
   "metadata": {
    "collapsed": false,
    "jupyter": {
     "outputs_hidden": false
    },
    "pycharm": {
     "name": "#%%\n"
    }
   },
   "outputs": [
    {
     "data": {
      "image/png": "[encoded data removed]",
      "text/plain": [
       "<Figure size 432x288 with 1 Axes>"
      ]
     },
     "metadata": {},
     "output_type": "display_data"
    }
   ],
   "source": [
    "seaborn.set_style(\"whitegrid\")\n",
    "my_plot = seaborn.boxplot(data=experiments_p_val[experiments_p_val['shots_count'] > 1],\n",
    "                              x='shots_count',\n",
    "                              y='prob_of_measuring_register_c_as_0')\n",
    "my_plot.axhline(expected_prob_of_measuring_register_c_as_0,\n",
    "                color='r', linestyle = '--')\n",
    "plt.show()"
   ]
  },
  {
   "cell_type": "markdown",
   "metadata": {},
   "source": [
    "## Medium database\n",
    "### Values closer to 1.0\n",
    "Let's repeat this exercise, but increase the database size.\n",
    "\n",
    "Let's create a database of 100 strings, 12 bits long. Most of the strings will have $D < 5$."
   ]
  },
  {
   "cell_type": "code",
   "execution_count": 17,
   "metadata": {
    "collapsed": false,
    "jupyter": {
     "outputs_hidden": false
    },
    "pycharm": {
     "name": "#%%\n"
    }
   },
   "outputs": [
    {
     "data": {
      "text/html": [
       "<div>\n",
       "<style scoped>\n",
       "    .dataframe tbody tr th:only-of-type {\n",
       "        vertical-align: middle;\n",
       "    }\n",
       "\n",
       "    .dataframe tbody tr th {\n",
       "        vertical-align: top;\n",
       "    }\n",
       "\n",
       "    .dataframe thead th {\n",
       "        text-align: right;\n",
       "    }\n",
       "</style>\n",
       "<table border=\"1\" class=\"dataframe\">\n",
       "  <thead>\n",
       "    <tr style=\"text-align: right;\">\n",
       "      <th></th>\n",
       "      <th>0</th>\n",
       "    </tr>\n",
       "  </thead>\n",
       "  <tbody>\n",
       "    <tr>\n",
       "      <th>0</th>\n",
       "      <td>110010011010</td>\n",
       "    </tr>\n",
       "    <tr>\n",
       "      <th>1</th>\n",
       "      <td>100110001011</td>\n",
       "    </tr>\n",
       "    <tr>\n",
       "      <th>2</th>\n",
       "      <td>100111101000</td>\n",
       "    </tr>\n",
       "    <tr>\n",
       "      <th>3</th>\n",
       "      <td>100011101011</td>\n",
       "    </tr>\n",
       "    <tr>\n",
       "      <th>4</th>\n",
       "      <td>100110111000</td>\n",
       "    </tr>\n",
       "    <tr>\n",
       "      <th>...</th>\n",
       "      <td>...</td>\n",
       "    </tr>\n",
       "    <tr>\n",
       "      <th>95</th>\n",
       "      <td>101010010010</td>\n",
       "    </tr>\n",
       "    <tr>\n",
       "      <th>96</th>\n",
       "      <td>011101010101</td>\n",
       "    </tr>\n",
       "    <tr>\n",
       "      <th>97</th>\n",
       "      <td>101101101110</td>\n",
       "    </tr>\n",
       "    <tr>\n",
       "      <th>98</th>\n",
       "      <td>101111111000</td>\n",
       "    </tr>\n",
       "    <tr>\n",
       "      <th>99</th>\n",
       "      <td>001010001010</td>\n",
       "    </tr>\n",
       "  </tbody>\n",
       "</table>\n",
       "<p>100 rows × 1 columns</p>\n",
       "</div>"
      ],
      "text/plain": [
       "               0\n",
       "0   110010011010\n",
       "1   100110001011\n",
       "2   100111101000\n",
       "3   100011101011\n",
       "4   100110111000\n",
       "..           ...\n",
       "95  101010010010\n",
       "96  011101010101\n",
       "97  101101101110\n",
       "98  101111111000\n",
       "99  001010001010\n",
       "\n",
       "[100 rows x 1 columns]"
      ]
     },
     "execution_count": 17,
     "metadata": {},
     "output_type": "execute_result"
    }
   ],
   "source": [
    "import random\n",
    "random.seed(12345)  # for reproducibility\n",
    "target_string = '101010101010'\n",
    "# populate database\n",
    "max_string_count = 100\n",
    "# add four strings with D = 0, 1, 11, 12\n",
    "medium_dataset = {'101010101010',  # D = 0\n",
    "                  '101110101010',  # D = 1\n",
    "                  '011101010101',  # D = 11\n",
    "                  '010101010101'}  # D = 12\n",
    "\n",
    "# now let's generate strings with D between 8 and 10\n",
    "dictionary = '01'\n",
    "while len(medium_dataset) < max_string_count:\n",
    "    db_string = ''.join(random.choice(dictionary) for i in range(len(target_string)))\n",
    "    hd = StringComparator.hamming_distance(target_string, db_string)\n",
    "    if hd < 5 and db_string not in medium_dataset:\n",
    "        medium_dataset.add(db_string)\n",
    "medium_dataset = list(medium_dataset)\n",
    "pd.DataFrame(medium_dataset)"
   ]
  },
  {
   "cell_type": "markdown",
   "metadata": {
    "pycharm": {
     "name": "#%% md\n"
    }
   },
   "source": [
    "Let's compute expected value of $c$ (`prob_of_measuring_register_c_as_0`):\n"
   ]
  },
  {
   "cell_type": "code",
   "execution_count": 18,
   "metadata": {
    "collapsed": false,
    "jupyter": {
     "outputs_hidden": false
    },
    "pycharm": {
     "name": "#%%\n"
    }
   },
   "outputs": [
    {
     "data": {
      "text/plain": [
       "0.7852251517434731"
      ]
     },
     "execution_count": 18,
     "metadata": {},
     "output_type": "execute_result"
    }
   ],
   "source": [
    "alphas = []\n",
    "theor_shots = 10000000.0\n",
    "string_count = len(medium_dataset) # let's use some high number\n",
    "string_length = len(target_string)\n",
    "for my_str in medium_dataset:\n",
    "    d = StringComparator.hamming_distance(target_string, my_str)\n",
    "    alphas.append(\n",
    "        theor_shots / string_count * pow(np.cos(np.pi / (2 * string_length) * d), 2)\n",
    "    )\n",
    "expected_prob_of_measuring_register_c_as_0 = np.array(alphas).sum() / theor_shots\n",
    "expected_prob_of_measuring_register_c_as_0\n"
   ]
  },
  {
   "cell_type": "markdown",
   "metadata": {},
   "source": [
    "Now let's get the empirical values of `prob_of_measuring_register_c_as_0`:\n"
   ]
  },
  {
   "cell_type": "code",
   "execution_count": 19,
   "metadata": {
    "collapsed": false,
    "jupyter": {
     "outputs_hidden": false
    },
    "pycharm": {
     "name": "#%%\n"
    }
   },
   "outputs": [
    {
     "data": {
      "text/html": [
       "<div>\n",
       "<style scoped>\n",
       "    .dataframe tbody tr th:only-of-type {\n",
       "        vertical-align: middle;\n",
       "    }\n",
       "\n",
       "    .dataframe tbody tr th {\n",
       "        vertical-align: top;\n",
       "    }\n",
       "\n",
       "    .dataframe thead th {\n",
       "        text-align: right;\n",
       "    }\n",
       "</style>\n",
       "<table border=\"1\" class=\"dataframe\">\n",
       "  <thead>\n",
       "    <tr style=\"text-align: right;\">\n",
       "      <th></th>\n",
       "      <th>shots_count</th>\n",
       "      <th>prob_of_measuring_register_c_as_0</th>\n",
       "    </tr>\n",
       "  </thead>\n",
       "  <tbody>\n",
       "    <tr>\n",
       "      <th>0</th>\n",
       "      <td>1</td>\n",
       "      <td>1.000000</td>\n",
       "    </tr>\n",
       "    <tr>\n",
       "      <th>1</th>\n",
       "      <td>1</td>\n",
       "      <td>1.000000</td>\n",
       "    </tr>\n",
       "    <tr>\n",
       "      <th>2</th>\n",
       "      <td>1</td>\n",
       "      <td>0.000000</td>\n",
       "    </tr>\n",
       "    <tr>\n",
       "      <th>3</th>\n",
       "      <td>1</td>\n",
       "      <td>1.000000</td>\n",
       "    </tr>\n",
       "    <tr>\n",
       "      <th>4</th>\n",
       "      <td>1</td>\n",
       "      <td>0.000000</td>\n",
       "    </tr>\n",
       "    <tr>\n",
       "      <th>...</th>\n",
       "      <td>...</td>\n",
       "      <td>...</td>\n",
       "    </tr>\n",
       "    <tr>\n",
       "      <th>995</th>\n",
       "      <td>900</td>\n",
       "      <td>0.771111</td>\n",
       "    </tr>\n",
       "    <tr>\n",
       "      <th>996</th>\n",
       "      <td>900</td>\n",
       "      <td>0.795556</td>\n",
       "    </tr>\n",
       "    <tr>\n",
       "      <th>997</th>\n",
       "      <td>900</td>\n",
       "      <td>0.811111</td>\n",
       "    </tr>\n",
       "    <tr>\n",
       "      <th>998</th>\n",
       "      <td>900</td>\n",
       "      <td>0.795556</td>\n",
       "    </tr>\n",
       "    <tr>\n",
       "      <th>999</th>\n",
       "      <td>900</td>\n",
       "      <td>0.798889</td>\n",
       "    </tr>\n",
       "  </tbody>\n",
       "</table>\n",
       "<p>1000 rows × 2 columns</p>\n",
       "</div>"
      ],
      "text/plain": [
       "     shots_count  prob_of_measuring_register_c_as_0\n",
       "0              1                           1.000000\n",
       "1              1                           1.000000\n",
       "2              1                           0.000000\n",
       "3              1                           1.000000\n",
       "4              1                           0.000000\n",
       "..           ...                                ...\n",
       "995          900                           0.771111\n",
       "996          900                           0.795556\n",
       "997          900                           0.811111\n",
       "998          900                           0.795556\n",
       "999          900                           0.798889\n",
       "\n",
       "[1000 rows x 2 columns]"
      ]
     },
     "execution_count": 19,
     "metadata": {},
     "output_type": "execute_result"
    }
   ],
   "source": [
    "# number of repetitions\n",
    "experiments_count = 100\n",
    "\n",
    "med_db_experiments_p_val = []\n",
    "for shots_count in range(1, 1001, 100):\n",
    "    if shots_count > 1:\n",
    "        shots_count -= 1  # To have nice round numbers\n",
    "    x = StringComparator(target_string, medium_dataset, symbol_length=1, shots=shots_count)\n",
    "    for _ in range (experiments_count):\n",
    "        results = x.run()\n",
    "        med_db_experiments_p_val.append([shots_count, results['prob_of_measuring_register_c_as_0']])\n",
    "\n",
    "med_db_experiments_p_val = pd.DataFrame(med_db_experiments_p_val)\n",
    "med_db_experiments_p_val.columns = ['shots_count', 'prob_of_measuring_register_c_as_0']\n",
    "med_db_experiments_p_val\n"
   ]
  },
  {
   "cell_type": "markdown",
   "metadata": {
    "pycharm": {
     "name": "#%% md\n"
    }
   },
   "source": [
    "Let's compare distributions of the empirical `prob_of_measuring_register_c_as_0` and it's expected value:"
   ]
  },
  {
   "cell_type": "code",
   "execution_count": 20,
   "metadata": {
    "collapsed": false,
    "jupyter": {
     "outputs_hidden": false
    },
    "pycharm": {
     "name": "#%%\n"
    }
   },
   "outputs": [
    {
     "data": {
      "image/png": "[encoded data removed]",
      "text/plain": [
       "<Figure size 432x288 with 1 Axes>"
      ]
     },
     "metadata": {},
     "output_type": "display_data"
    }
   ],
   "source": [
    "seaborn.set_style(\"whitegrid\")\n",
    "my_plot = seaborn.boxplot(data=med_db_experiments_p_val,\n",
    "                              x='shots_count',\n",
    "                              y='prob_of_measuring_register_c_as_0')\n",
    "my_plot.axhline(expected_prob_of_measuring_register_c_as_0,\n",
    "                color='r', linestyle = '--')\n",
    "plt.show()\n"
   ]
  },
  {
   "cell_type": "code",
   "execution_count": 21,
   "metadata": {},
   "outputs": [
    {
     "data": {
      "image/png": "[encoded data removed]",
      "text/plain": [
       "<Figure size 432x288 with 1 Axes>"
      ]
     },
     "metadata": {},
     "output_type": "display_data"
    }
   ],
   "source": [
    "\n",
    "seaborn.set_style(\"whitegrid\")\n",
    "my_plot = seaborn.boxplot(data=med_db_experiments_p_val[med_db_experiments_p_val['shots_count']>1],\n",
    "                              x='shots_count',\n",
    "                              y='prob_of_measuring_register_c_as_0')\n",
    "my_plot.axhline(expected_prob_of_measuring_register_c_as_0,\n",
    "                color='r', linestyle = '--')\n",
    "plt.show()"
   ]
  },
  {
   "cell_type": "markdown",
   "metadata": {},
   "source": [
    "Let's also check the numeric values of variance:"
   ]
  },
  {
   "cell_type": "code",
   "execution_count": 22,
   "metadata": {},
   "outputs": [
    {
     "data": {
      "text/html": [
       "<div>\n",
       "<style scoped>\n",
       "    .dataframe tbody tr th:only-of-type {\n",
       "        vertical-align: middle;\n",
       "    }\n",
       "\n",
       "    .dataframe tbody tr th {\n",
       "        vertical-align: top;\n",
       "    }\n",
       "\n",
       "    .dataframe thead th {\n",
       "        text-align: right;\n",
       "    }\n",
       "</style>\n",
       "<table border=\"1\" class=\"dataframe\">\n",
       "  <thead>\n",
       "    <tr style=\"text-align: right;\">\n",
       "      <th></th>\n",
       "      <th>mean</th>\n",
       "      <th>var</th>\n",
       "    </tr>\n",
       "    <tr>\n",
       "      <th>shots_count</th>\n",
       "      <th></th>\n",
       "      <th></th>\n",
       "    </tr>\n",
       "  </thead>\n",
       "  <tbody>\n",
       "    <tr>\n",
       "      <th>1</th>\n",
       "      <td>0.770000</td>\n",
       "      <td>0.178889</td>\n",
       "    </tr>\n",
       "    <tr>\n",
       "      <th>100</th>\n",
       "      <td>0.781500</td>\n",
       "      <td>0.001900</td>\n",
       "    </tr>\n",
       "    <tr>\n",
       "      <th>200</th>\n",
       "      <td>0.783250</td>\n",
       "      <td>0.000747</td>\n",
       "    </tr>\n",
       "    <tr>\n",
       "      <th>300</th>\n",
       "      <td>0.786167</td>\n",
       "      <td>0.000574</td>\n",
       "    </tr>\n",
       "    <tr>\n",
       "      <th>400</th>\n",
       "      <td>0.784725</td>\n",
       "      <td>0.000461</td>\n",
       "    </tr>\n",
       "    <tr>\n",
       "      <th>500</th>\n",
       "      <td>0.782440</td>\n",
       "      <td>0.000364</td>\n",
       "    </tr>\n",
       "    <tr>\n",
       "      <th>600</th>\n",
       "      <td>0.785433</td>\n",
       "      <td>0.000231</td>\n",
       "    </tr>\n",
       "    <tr>\n",
       "      <th>700</th>\n",
       "      <td>0.786114</td>\n",
       "      <td>0.000233</td>\n",
       "    </tr>\n",
       "    <tr>\n",
       "      <th>800</th>\n",
       "      <td>0.785062</td>\n",
       "      <td>0.000173</td>\n",
       "    </tr>\n",
       "    <tr>\n",
       "      <th>900</th>\n",
       "      <td>0.786311</td>\n",
       "      <td>0.000158</td>\n",
       "    </tr>\n",
       "  </tbody>\n",
       "</table>\n",
       "</div>"
      ],
      "text/plain": [
       "                 mean       var\n",
       "shots_count                    \n",
       "1            0.770000  0.178889\n",
       "100          0.781500  0.001900\n",
       "200          0.783250  0.000747\n",
       "300          0.786167  0.000574\n",
       "400          0.784725  0.000461\n",
       "500          0.782440  0.000364\n",
       "600          0.785433  0.000231\n",
       "700          0.786114  0.000233\n",
       "800          0.785062  0.000173\n",
       "900          0.786311  0.000158"
      ]
     },
     "execution_count": 22,
     "metadata": {},
     "output_type": "execute_result"
    }
   ],
   "source": [
    "med_db_experiments_p_val.groupby(['shots_count'])['prob_of_measuring_register_c_as_0'].agg(['mean', 'var'])"
   ]
  },
  {
   "cell_type": "markdown",
   "metadata": {},
   "source": [
    "As we can see, the variance here decreases consistently with the increase of the numebr of shots. This may imply that it is easire to compute `prob_of_measuring_register_c_as_0` if it is far enough from 0.5. \n",
    "Let's test this hypothesis by creating a dataset with expected value closer to 0.5. Before we do, let's see if theoretical values of the dataset coinside with the actual ones by naively drawing from bernoulli distribution wih p-value of drawing 1 set to `expected_prob_of_measuring_register_c_as_0`."
   ]
  },
  {
   "cell_type": "code",
   "execution_count": 23,
   "metadata": {},
   "outputs": [
    {
     "data": {
      "text/html": [
       "<div>\n",
       "<style scoped>\n",
       "    .dataframe tbody tr th:only-of-type {\n",
       "        vertical-align: middle;\n",
       "    }\n",
       "\n",
       "    .dataframe tbody tr th {\n",
       "        vertical-align: top;\n",
       "    }\n",
       "\n",
       "    .dataframe thead th {\n",
       "        text-align: right;\n",
       "    }\n",
       "</style>\n",
       "<table border=\"1\" class=\"dataframe\">\n",
       "  <thead>\n",
       "    <tr style=\"text-align: right;\">\n",
       "      <th></th>\n",
       "      <th>shots_count</th>\n",
       "      <th>prob_of_measuring_register_c_as_0</th>\n",
       "    </tr>\n",
       "  </thead>\n",
       "  <tbody>\n",
       "    <tr>\n",
       "      <th>0</th>\n",
       "      <td>1</td>\n",
       "      <td>1</td>\n",
       "    </tr>\n",
       "    <tr>\n",
       "      <th>1</th>\n",
       "      <td>1</td>\n",
       "      <td>1</td>\n",
       "    </tr>\n",
       "    <tr>\n",
       "      <th>2</th>\n",
       "      <td>1</td>\n",
       "      <td>1</td>\n",
       "    </tr>\n",
       "    <tr>\n",
       "      <th>3</th>\n",
       "      <td>1</td>\n",
       "      <td>0</td>\n",
       "    </tr>\n",
       "    <tr>\n",
       "      <th>4</th>\n",
       "      <td>1</td>\n",
       "      <td>0</td>\n",
       "    </tr>\n",
       "    <tr>\n",
       "      <th>...</th>\n",
       "      <td>...</td>\n",
       "      <td>...</td>\n",
       "    </tr>\n",
       "    <tr>\n",
       "      <th>995</th>\n",
       "      <td>900</td>\n",
       "      <td>1</td>\n",
       "    </tr>\n",
       "    <tr>\n",
       "      <th>996</th>\n",
       "      <td>900</td>\n",
       "      <td>0</td>\n",
       "    </tr>\n",
       "    <tr>\n",
       "      <th>997</th>\n",
       "      <td>900</td>\n",
       "      <td>0</td>\n",
       "    </tr>\n",
       "    <tr>\n",
       "      <th>998</th>\n",
       "      <td>900</td>\n",
       "      <td>1</td>\n",
       "    </tr>\n",
       "    <tr>\n",
       "      <th>999</th>\n",
       "      <td>900</td>\n",
       "      <td>1</td>\n",
       "    </tr>\n",
       "  </tbody>\n",
       "</table>\n",
       "<p>1000 rows × 2 columns</p>\n",
       "</div>"
      ],
      "text/plain": [
       "     shots_count  prob_of_measuring_register_c_as_0\n",
       "0              1                                  1\n",
       "1              1                                  1\n",
       "2              1                                  1\n",
       "3              1                                  0\n",
       "4              1                                  0\n",
       "..           ...                                ...\n",
       "995          900                                  1\n",
       "996          900                                  0\n",
       "997          900                                  0\n",
       "998          900                                  1\n",
       "999          900                                  1\n",
       "\n",
       "[1000 rows x 2 columns]"
      ]
     },
     "execution_count": 23,
     "metadata": {},
     "output_type": "execute_result"
    }
   ],
   "source": [
    "from scipy.stats import bernoulli\n",
    "# number of repetitions\n",
    "experiments_count = 100\n",
    "\n",
    "theor_med_db_experiments_p_val = []\n",
    "for shots_count in range(1, 1001, 100):\n",
    "    if shots_count > 1:\n",
    "        shots_count -= 1  # To have nice round numbers\n",
    "    for _ in range (experiments_count):\n",
    "            theor_med_db_experiments_p_val.append([shots_count, int(bernoulli.rvs(p=expected_prob_of_measuring_register_c_as_0, size=1))])\n",
    "\n",
    "theor_med_db_experiments_p_val = pd.DataFrame(theor_med_db_experiments_p_val)\n",
    "theor_med_db_experiments_p_val.columns = ['shots_count', 'prob_of_measuring_register_c_as_0']\n",
    "theor_med_db_experiments_p_val"
   ]
  },
  {
   "cell_type": "code",
   "execution_count": 24,
   "metadata": {},
   "outputs": [
    {
     "data": {
      "text/html": [
       "<div>\n",
       "<style scoped>\n",
       "    .dataframe tbody tr th:only-of-type {\n",
       "        vertical-align: middle;\n",
       "    }\n",
       "\n",
       "    .dataframe tbody tr th {\n",
       "        vertical-align: top;\n",
       "    }\n",
       "\n",
       "    .dataframe thead th {\n",
       "        text-align: right;\n",
       "    }\n",
       "</style>\n",
       "<table border=\"1\" class=\"dataframe\">\n",
       "  <thead>\n",
       "    <tr style=\"text-align: right;\">\n",
       "      <th></th>\n",
       "      <th>mean</th>\n",
       "      <th>var</th>\n",
       "    </tr>\n",
       "    <tr>\n",
       "      <th>shots_count</th>\n",
       "      <th></th>\n",
       "      <th></th>\n",
       "    </tr>\n",
       "  </thead>\n",
       "  <tbody>\n",
       "    <tr>\n",
       "      <th>1</th>\n",
       "      <td>0.78</td>\n",
       "      <td>0.173333</td>\n",
       "    </tr>\n",
       "    <tr>\n",
       "      <th>100</th>\n",
       "      <td>0.73</td>\n",
       "      <td>0.199091</td>\n",
       "    </tr>\n",
       "    <tr>\n",
       "      <th>200</th>\n",
       "      <td>0.78</td>\n",
       "      <td>0.173333</td>\n",
       "    </tr>\n",
       "    <tr>\n",
       "      <th>300</th>\n",
       "      <td>0.81</td>\n",
       "      <td>0.155455</td>\n",
       "    </tr>\n",
       "    <tr>\n",
       "      <th>400</th>\n",
       "      <td>0.77</td>\n",
       "      <td>0.178889</td>\n",
       "    </tr>\n",
       "    <tr>\n",
       "      <th>500</th>\n",
       "      <td>0.89</td>\n",
       "      <td>0.098889</td>\n",
       "    </tr>\n",
       "    <tr>\n",
       "      <th>600</th>\n",
       "      <td>0.84</td>\n",
       "      <td>0.135758</td>\n",
       "    </tr>\n",
       "    <tr>\n",
       "      <th>700</th>\n",
       "      <td>0.83</td>\n",
       "      <td>0.142525</td>\n",
       "    </tr>\n",
       "    <tr>\n",
       "      <th>800</th>\n",
       "      <td>0.92</td>\n",
       "      <td>0.074343</td>\n",
       "    </tr>\n",
       "    <tr>\n",
       "      <th>900</th>\n",
       "      <td>0.81</td>\n",
       "      <td>0.155455</td>\n",
       "    </tr>\n",
       "  </tbody>\n",
       "</table>\n",
       "</div>"
      ],
      "text/plain": [
       "             mean       var\n",
       "shots_count                \n",
       "1            0.78  0.173333\n",
       "100          0.73  0.199091\n",
       "200          0.78  0.173333\n",
       "300          0.81  0.155455\n",
       "400          0.77  0.178889\n",
       "500          0.89  0.098889\n",
       "600          0.84  0.135758\n",
       "700          0.83  0.142525\n",
       "800          0.92  0.074343\n",
       "900          0.81  0.155455"
      ]
     },
     "execution_count": 24,
     "metadata": {},
     "output_type": "execute_result"
    }
   ],
   "source": [
    "theor_med_db_experiments_p_val.groupby(['shots_count'])['prob_of_measuring_register_c_as_0'].agg(['mean', 'var'])"
   ]
  },
  {
   "cell_type": "markdown",
   "metadata": {},
   "source": [
    "It seems that naive draw from the Bernoulli distribution does not give as good result as the actual experiment. Perhaps we need to make it more realistic and draw specific string first (based on the values of `alphas`)?\n",
    "\n",
    "### Values closer to 0.5\n",
    "Let's fill the database with the majority of strings with $D=6$."
   ]
  },
  {
   "cell_type": "code",
   "execution_count": 25,
   "metadata": {},
   "outputs": [
    {
     "data": {
      "text/html": [
       "<div>\n",
       "<style scoped>\n",
       "    .dataframe tbody tr th:only-of-type {\n",
       "        vertical-align: middle;\n",
       "    }\n",
       "\n",
       "    .dataframe tbody tr th {\n",
       "        vertical-align: top;\n",
       "    }\n",
       "\n",
       "    .dataframe thead th {\n",
       "        text-align: right;\n",
       "    }\n",
       "</style>\n",
       "<table border=\"1\" class=\"dataframe\">\n",
       "  <thead>\n",
       "    <tr style=\"text-align: right;\">\n",
       "      <th></th>\n",
       "      <th>0</th>\n",
       "    </tr>\n",
       "  </thead>\n",
       "  <tbody>\n",
       "    <tr>\n",
       "      <th>0</th>\n",
       "      <td>001010010111</td>\n",
       "    </tr>\n",
       "    <tr>\n",
       "      <th>1</th>\n",
       "      <td>100111000000</td>\n",
       "    </tr>\n",
       "    <tr>\n",
       "      <th>2</th>\n",
       "      <td>011011010010</td>\n",
       "    </tr>\n",
       "    <tr>\n",
       "      <th>3</th>\n",
       "      <td>001100111100</td>\n",
       "    </tr>\n",
       "    <tr>\n",
       "      <th>4</th>\n",
       "      <td>000001001110</td>\n",
       "    </tr>\n",
       "    <tr>\n",
       "      <th>...</th>\n",
       "      <td>...</td>\n",
       "    </tr>\n",
       "    <tr>\n",
       "      <th>95</th>\n",
       "      <td>110110110110</td>\n",
       "    </tr>\n",
       "    <tr>\n",
       "      <th>96</th>\n",
       "      <td>011101010101</td>\n",
       "    </tr>\n",
       "    <tr>\n",
       "      <th>97</th>\n",
       "      <td>011101101000</td>\n",
       "    </tr>\n",
       "    <tr>\n",
       "      <th>98</th>\n",
       "      <td>011001110010</td>\n",
       "    </tr>\n",
       "    <tr>\n",
       "      <th>99</th>\n",
       "      <td>010011111000</td>\n",
       "    </tr>\n",
       "  </tbody>\n",
       "</table>\n",
       "<p>100 rows × 1 columns</p>\n",
       "</div>"
      ],
      "text/plain": [
       "               0\n",
       "0   001010010111\n",
       "1   100111000000\n",
       "2   011011010010\n",
       "3   001100111100\n",
       "4   000001001110\n",
       "..           ...\n",
       "95  110110110110\n",
       "96  011101010101\n",
       "97  011101101000\n",
       "98  011001110010\n",
       "99  010011111000\n",
       "\n",
       "[100 rows x 1 columns]"
      ]
     },
     "execution_count": 25,
     "metadata": {},
     "output_type": "execute_result"
    }
   ],
   "source": [
    "import random\n",
    "from string_comparison import StringComparator\n",
    "random.seed(12345)  # for reproducibility\n",
    "target_string = '101010101010'\n",
    "# populate database\n",
    "max_string_count = 100\n",
    "# add four strings with D = 0, 1, 11, 12\n",
    "medium_dataset_far = {'101010101010',  # D = 0\n",
    "                  '101110101010',  # D = 1\n",
    "                  '011101010101',  # D = 11\n",
    "                  '010101010101'}  # D = 12\n",
    "\n",
    "# now let's generate strings with D between 8 and 10\n",
    "dictionary = '01'\n",
    "while len(medium_dataset_far) < max_string_count:\n",
    "    db_string = ''.join(random.choice(dictionary) for i in range(len(target_string)))\n",
    "    hd = StringComparator.hamming_distance(target_string, db_string)\n",
    "    if hd == 6 and db_string not in medium_dataset_far:\n",
    "        medium_dataset_far.add(db_string)\n",
    "medium_dataset_far = list(medium_dataset_far)\n",
    "pd.DataFrame(medium_dataset_far)"
   ]
  },
  {
   "cell_type": "markdown",
   "metadata": {},
   "source": [
    "The theoretical value of `prob_of_measuring_register_c_as_0` is exactly 0.5:"
   ]
  },
  {
   "cell_type": "code",
   "execution_count": 26,
   "metadata": {},
   "outputs": [
    {
     "data": {
      "text/plain": [
       "0.5000000000000001"
      ]
     },
     "execution_count": 26,
     "metadata": {},
     "output_type": "execute_result"
    }
   ],
   "source": [
    "alphas = []\n",
    "theor_shots = 10000000.0\n",
    "string_count = len(medium_dataset_far) # let's use some high number\n",
    "string_length = len(target_string)\n",
    "for my_str in medium_dataset_far:\n",
    "    d = StringComparator.hamming_distance(target_string, my_str)\n",
    "    alphas.append(\n",
    "        theor_shots / string_count * pow(np.cos(np.pi / (2 * string_length) * d), 2)\n",
    "    )\n",
    "expected_prob_of_measuring_register_c_as_0 = np.array(alphas).sum() / theor_shots\n",
    "expected_prob_of_measuring_register_c_as_0"
   ]
  },
  {
   "cell_type": "markdown",
   "metadata": {},
   "source": [
    "And the empirical values of `prob_of_measuring_register_c_as_0` are "
   ]
  },
  {
   "cell_type": "code",
   "execution_count": 27,
   "metadata": {},
   "outputs": [
    {
     "data": {
      "text/html": [
       "<div>\n",
       "<style scoped>\n",
       "    .dataframe tbody tr th:only-of-type {\n",
       "        vertical-align: middle;\n",
       "    }\n",
       "\n",
       "    .dataframe tbody tr th {\n",
       "        vertical-align: top;\n",
       "    }\n",
       "\n",
       "    .dataframe thead th {\n",
       "        text-align: right;\n",
       "    }\n",
       "</style>\n",
       "<table border=\"1\" class=\"dataframe\">\n",
       "  <thead>\n",
       "    <tr style=\"text-align: right;\">\n",
       "      <th></th>\n",
       "      <th>shots_count</th>\n",
       "      <th>prob_of_measuring_register_c_as_0</th>\n",
       "    </tr>\n",
       "  </thead>\n",
       "  <tbody>\n",
       "    <tr>\n",
       "      <th>0</th>\n",
       "      <td>1</td>\n",
       "      <td>1.000000</td>\n",
       "    </tr>\n",
       "    <tr>\n",
       "      <th>1</th>\n",
       "      <td>1</td>\n",
       "      <td>1.000000</td>\n",
       "    </tr>\n",
       "    <tr>\n",
       "      <th>2</th>\n",
       "      <td>1</td>\n",
       "      <td>1.000000</td>\n",
       "    </tr>\n",
       "    <tr>\n",
       "      <th>3</th>\n",
       "      <td>1</td>\n",
       "      <td>1.000000</td>\n",
       "    </tr>\n",
       "    <tr>\n",
       "      <th>4</th>\n",
       "      <td>1</td>\n",
       "      <td>0.000000</td>\n",
       "    </tr>\n",
       "    <tr>\n",
       "      <th>...</th>\n",
       "      <td>...</td>\n",
       "      <td>...</td>\n",
       "    </tr>\n",
       "    <tr>\n",
       "      <th>995</th>\n",
       "      <td>900</td>\n",
       "      <td>0.484444</td>\n",
       "    </tr>\n",
       "    <tr>\n",
       "      <th>996</th>\n",
       "      <td>900</td>\n",
       "      <td>0.500000</td>\n",
       "    </tr>\n",
       "    <tr>\n",
       "      <th>997</th>\n",
       "      <td>900</td>\n",
       "      <td>0.514444</td>\n",
       "    </tr>\n",
       "    <tr>\n",
       "      <th>998</th>\n",
       "      <td>900</td>\n",
       "      <td>0.486667</td>\n",
       "    </tr>\n",
       "    <tr>\n",
       "      <th>999</th>\n",
       "      <td>900</td>\n",
       "      <td>0.504444</td>\n",
       "    </tr>\n",
       "  </tbody>\n",
       "</table>\n",
       "<p>1000 rows × 2 columns</p>\n",
       "</div>"
      ],
      "text/plain": [
       "     shots_count  prob_of_measuring_register_c_as_0\n",
       "0              1                           1.000000\n",
       "1              1                           1.000000\n",
       "2              1                           1.000000\n",
       "3              1                           1.000000\n",
       "4              1                           0.000000\n",
       "..           ...                                ...\n",
       "995          900                           0.484444\n",
       "996          900                           0.500000\n",
       "997          900                           0.514444\n",
       "998          900                           0.486667\n",
       "999          900                           0.504444\n",
       "\n",
       "[1000 rows x 2 columns]"
      ]
     },
     "execution_count": 27,
     "metadata": {},
     "output_type": "execute_result"
    }
   ],
   "source": [
    "# number of repetitions\n",
    "experiments_count = 100\n",
    "from string_comparison import StringComparator\n",
    "med_db_experiments_p_val_far = []\n",
    "for shots_count in range(1, 1001, 100):\n",
    "    if shots_count > 1:\n",
    "        shots_count -= 1  # To have nice round numbers\n",
    "    x = StringComparator(target_string, medium_dataset_far, symbol_length=1, shots=shots_count)\n",
    "    for _ in range (experiments_count):\n",
    "        results = x.run()\n",
    "        med_db_experiments_p_val_far.append([shots_count, results['prob_of_measuring_register_c_as_0']])\n",
    "\n",
    "med_db_experiments_p_val_far = pd.DataFrame(med_db_experiments_p_val_far)\n",
    "med_db_experiments_p_val_far.columns = ['shots_count', 'prob_of_measuring_register_c_as_0']\n",
    "med_db_experiments_p_val_far"
   ]
  },
  {
   "cell_type": "markdown",
   "metadata": {},
   "source": [
    "The results are as follows:"
   ]
  },
  {
   "cell_type": "code",
   "execution_count": 28,
   "metadata": {},
   "outputs": [
    {
     "data": {
      "text/html": [
       "<div>\n",
       "<style scoped>\n",
       "    .dataframe tbody tr th:only-of-type {\n",
       "        vertical-align: middle;\n",
       "    }\n",
       "\n",
       "    .dataframe tbody tr th {\n",
       "        vertical-align: top;\n",
       "    }\n",
       "\n",
       "    .dataframe thead th {\n",
       "        text-align: right;\n",
       "    }\n",
       "</style>\n",
       "<table border=\"1\" class=\"dataframe\">\n",
       "  <thead>\n",
       "    <tr style=\"text-align: right;\">\n",
       "      <th></th>\n",
       "      <th>mean</th>\n",
       "      <th>var</th>\n",
       "    </tr>\n",
       "    <tr>\n",
       "      <th>shots_count</th>\n",
       "      <th></th>\n",
       "      <th></th>\n",
       "    </tr>\n",
       "  </thead>\n",
       "  <tbody>\n",
       "    <tr>\n",
       "      <th>1</th>\n",
       "      <td>0.490000</td>\n",
       "      <td>0.252424</td>\n",
       "    </tr>\n",
       "    <tr>\n",
       "      <th>100</th>\n",
       "      <td>0.498600</td>\n",
       "      <td>0.002697</td>\n",
       "    </tr>\n",
       "    <tr>\n",
       "      <th>200</th>\n",
       "      <td>0.504900</td>\n",
       "      <td>0.001494</td>\n",
       "    </tr>\n",
       "    <tr>\n",
       "      <th>300</th>\n",
       "      <td>0.497900</td>\n",
       "      <td>0.000807</td>\n",
       "    </tr>\n",
       "    <tr>\n",
       "      <th>400</th>\n",
       "      <td>0.496175</td>\n",
       "      <td>0.000657</td>\n",
       "    </tr>\n",
       "    <tr>\n",
       "      <th>500</th>\n",
       "      <td>0.498800</td>\n",
       "      <td>0.000564</td>\n",
       "    </tr>\n",
       "    <tr>\n",
       "      <th>600</th>\n",
       "      <td>0.496167</td>\n",
       "      <td>0.000398</td>\n",
       "    </tr>\n",
       "    <tr>\n",
       "      <th>700</th>\n",
       "      <td>0.500157</td>\n",
       "      <td>0.000288</td>\n",
       "    </tr>\n",
       "    <tr>\n",
       "      <th>800</th>\n",
       "      <td>0.500500</td>\n",
       "      <td>0.000342</td>\n",
       "    </tr>\n",
       "    <tr>\n",
       "      <th>900</th>\n",
       "      <td>0.497644</td>\n",
       "      <td>0.000221</td>\n",
       "    </tr>\n",
       "  </tbody>\n",
       "</table>\n",
       "</div>"
      ],
      "text/plain": [
       "                 mean       var\n",
       "shots_count                    \n",
       "1            0.490000  0.252424\n",
       "100          0.498600  0.002697\n",
       "200          0.504900  0.001494\n",
       "300          0.497900  0.000807\n",
       "400          0.496175  0.000657\n",
       "500          0.498800  0.000564\n",
       "600          0.496167  0.000398\n",
       "700          0.500157  0.000288\n",
       "800          0.500500  0.000342\n",
       "900          0.497644  0.000221"
      ]
     },
     "execution_count": 28,
     "metadata": {},
     "output_type": "execute_result"
    }
   ],
   "source": [
    "med_db_experiments_p_val_far.groupby(['shots_count'])['prob_of_measuring_register_c_as_0'].agg(['mean', 'var'])"
   ]
  },
  {
   "cell_type": "code",
   "execution_count": 29,
   "metadata": {},
   "outputs": [
    {
     "data": {
      "image/png": "[encoded data removed]",
      "text/plain": [
       "<Figure size 432x288 with 1 Axes>"
      ]
     },
     "metadata": {},
     "output_type": "display_data"
    }
   ],
   "source": [
    "seaborn.set_style(\"whitegrid\")\n",
    "my_plot = seaborn.boxplot(data=med_db_experiments_p_val_far,\n",
    "                              x='shots_count',\n",
    "                              y='prob_of_measuring_register_c_as_0')\n",
    "my_plot.axhline(expected_prob_of_measuring_register_c_as_0,\n",
    "                color='r', linestyle = '--')\n",
    "plt.show()"
   ]
  },
  {
   "cell_type": "markdown",
   "metadata": {},
   "source": [
    "And w/o the value of 1:"
   ]
  },
  {
   "cell_type": "code",
   "execution_count": 30,
   "metadata": {},
   "outputs": [
    {
     "data": {
      "image/png": "[encoded data removed]",
      "text/plain": [
       "<Figure size 432x288 with 1 Axes>"
      ]
     },
     "metadata": {},
     "output_type": "display_data"
    }
   ],
   "source": [
    "seaborn.set_style(\"whitegrid\")\n",
    "my_plot = seaborn.boxplot(data=med_db_experiments_p_val_far[med_db_experiments_p_val_far['shots_count']>1],\n",
    "                              x='shots_count',\n",
    "                              y='prob_of_measuring_register_c_as_0')\n",
    "my_plot.axhline(expected_prob_of_measuring_register_c_as_0,\n",
    "                color='r', linestyle = '--')\n",
    "plt.show()"
   ]
  },
  {
   "cell_type": "code",
   "execution_count": null,
   "metadata": {},
   "outputs": [],
   "source": []
  }
 ],
 "metadata": {
  "kernelspec": {
   "display_name": "Python 3 (ipykernel)",
   "language": "python",
   "name": "python3"
  },
  "language_info": {
   "codemirror_mode": {
    "name": "ipython",
    "version": 3
   },
   "file_extension": ".py",
   "mimetype": "text/x-python",
   "name": "python",
   "nbconvert_exporter": "python",
   "pygments_lexer": "ipython3",
   "version": "3.9.6"
  }
 },
 "nbformat": 4,
 "nbformat_minor": 4
}
