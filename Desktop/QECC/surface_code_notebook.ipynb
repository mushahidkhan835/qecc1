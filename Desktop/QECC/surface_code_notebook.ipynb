{
 "cells": [
  {
   "cell_type": "code",
   "execution_count": 1,
   "metadata": {},
   "outputs": [],
   "source": [
    "from qiskit import execute\n",
    "\n",
    "try:\n",
    "    from qiskit import Aer\n",
    "\n",
    "    HAS_AER = True\n",
    "except ImportError:\n",
    "    from qiskit import BasicAer\n",
    "\n",
    "    HAS_AER = False\n",
    "    \n",
    "if HAS_AER:\n",
    "    simulator = Aer.get_backend('qasm_simulator')\n",
    "else:\n",
    "    simulator = BasicAer.get_backend('qasm_simulator')\n",
    "    \n",
    "import sys\n",
    "sys.path.insert(0, '../')\n",
    "from surface_code import SurfaceCode\n",
    "\n",
    "# Set up a d=3, T=3 code\n",
    "code = SurfaceCode(3, 3)"
   ]
  },
  {
   "cell_type": "code",
   "execution_count": 2,
   "metadata": {},
   "outputs": [
    {
     "data": {
      "text/plain": [
       "([(-0.5, 0.5),\n",
       "  (0.5, 0.5),\n",
       "  (0.5, 1.5),\n",
       "  (0.5, 2.5),\n",
       "  (1.5, -0.5),\n",
       "  (1.5, 0.5),\n",
       "  (1.5, 1.5),\n",
       "  (2.5, 1.5)],\n",
       " [(0, 0), (0, 1), (0, 2), (1, 0), (1, 1), (1, 2), (2, 0), (2, 1), (2, 2)])"
      ]
     },
     "execution_count": 2,
     "metadata": {},
     "output_type": "execute_result"
    }
   ],
   "source": [
    "code.lattice()"
   ]
  },
  {
   "cell_type": "code",
   "execution_count": 8,
   "metadata": {},
   "outputs": [],
   "source": [
    "\n",
    "    do_top = True\n",
    "    do_left = False\n",
    "    do_right = True\n",
    "    do_bottom = False\n",
    "    f = []\n",
    "    d = [[(0, 0), (0, 1), (0, 2)],\n",
    "         [ (1, 0), (1, 1), (1, 2)],\n",
    "         [(2, 0), (2, 1), (2, 2)]]\n",
    "    for i in range(d):\n",
    "        for j in range(d):\n",
    "            if j == 0:\n",
    "                if i % 2 == 0:\n",
    "                    x, y = d[i]\n",
    "                    f.append([(d[i][0] + d[i + 1][0] / 2) - 0.5, (d[i][1] + d[i + 1][1]) / 2])\n",
    "                    \n"
   ]
  },
  {
   "cell_type": "code",
   "execution_count": 7,
   "metadata": {},
   "outputs": [
    {
     "ename": "NameError",
     "evalue": "name 'f' is not defined",
     "output_type": "error",
     "traceback": [
      "\u001b[0;31m---------------------------------------------------------------------------\u001b[0m",
      "\u001b[0;31mNameError\u001b[0m                                 Traceback (most recent call last)",
      "Cell \u001b[0;32mIn[7], line 1\u001b[0m\n\u001b[0;32m----> 1\u001b[0m f\n",
      "\u001b[0;31mNameError\u001b[0m: name 'f' is not defined"
     ]
    }
   ],
   "source": [
    "f"
   ]
  },
  {
   "cell_type": "code",
   "execution_count": null,
   "metadata": {},
   "outputs": [],
   "source": []
  }
 ],
 "metadata": {
  "kernelspec": {
   "display_name": "Python 3",
   "language": "python",
   "name": "python3"
  },
  "language_info": {
   "codemirror_mode": {
    "name": "ipython",
    "version": 3
   },
   "file_extension": ".py",
   "mimetype": "text/x-python",
   "name": "python",
   "nbconvert_exporter": "python",
   "pygments_lexer": "ipython3",
   "version": "3.10.7"
  },
  "orig_nbformat": 4
 },
 "nbformat": 4,
 "nbformat_minor": 2
}
