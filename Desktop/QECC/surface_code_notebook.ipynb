{
 "cells": [
  {
   "cell_type": "code",
   "execution_count": 2,
   "metadata": {},
   "outputs": [
    {
     "data": {
      "text/plain": [
       "([], [])"
      ]
     },
     "execution_count": 2,
     "metadata": {},
     "output_type": "execute_result"
    }
   ],
   "source": [
    "    \n",
    "import sys\n",
    "sys.path.insert(0, '../')\n",
    "from surface_code import SurfaceCode\n",
    "\n",
    "# Set up a d=3, T=3 code\n",
    "code = SurfaceCode(3,1)\n",
    "c = code.syndrome_measurement()\n",
    "c"
   ]
  },
  {
   "cell_type": "code",
   "execution_count": 2,
   "metadata": {},
   "outputs": [
    {
     "data": {
      "text/plain": [
       "[array(1.),\n",
       " array(1.),\n",
       " array(1.),\n",
       " array(1.),\n",
       " array(1.),\n",
       " array(1.),\n",
       " array(1.),\n",
       " array(1.),\n",
       " array(1.)]"
      ]
     },
     "execution_count": 2,
     "metadata": {},
     "output_type": "execute_result"
    }
   ],
   "source": [
    "c = code.syndrome_measurement()\n",
    "c"
   ]
  },
  {
   "cell_type": "code",
   "execution_count": 3,
   "metadata": {},
   "outputs": [
    {
     "data": {
      "text/plain": [
       "(<Figure size 400x100 with 1 Axes>, <Axes: >)"
      ]
     },
     "execution_count": 3,
     "metadata": {},
     "output_type": "execute_result"
    },
    {
     "data": {
      "image/png": "[encoded data removed]",
      "text/plain": [
       "<Figure size 400x100 with 1 Axes>"
      ]
     },
     "metadata": {},
     "output_type": "display_data"
    }
   ],
   "source": [
    "qml.drawer.draw_mpl(c, style=\"sketch\")()\n"
   ]
  },
  {
   "cell_type": "code",
   "execution_count": 2,
   "metadata": {},
   "outputs": [
    {
     "data": {
      "text/plain": [
       "0"
      ]
     },
     "execution_count": 2,
     "metadata": {},
     "output_type": "execute_result"
    }
   ],
   "source": [
    "x =[(0, 0), (0, 1), (0, 2), (1, 0), (1, 1), (1, 2), (2, 0), (2, 1), (2, 2)]\n",
    "\n",
    "x.index((0,0))"
   ]
  },
  {
   "cell_type": "code",
   "execution_count": 114,
   "metadata": {},
   "outputs": [
    {
     "data": {
      "text/plain": [
       "[[(0, 0), (0, 1), (0, 2)], [(1, 0), (1, 1), (1, 2)], [(2, 0), (2, 1), (2, 2)]]"
      ]
     },
     "execution_count": 114,
     "metadata": {},
     "output_type": "execute_result"
    }
   ],
   "source": [
    "data_string_arr = []\n",
    "prev = None\n",
    "temp = []\n",
    "i = 0\n",
    "data_ind = b\n",
    "while i < len(b):\n",
    "    j = i\n",
    "    temp = []\n",
    "    while j < len(data_ind):\n",
    "        if data_ind[j][0] == data_ind[i][0]:\n",
    "            temp.append(data_ind[j])\n",
    "            j += 1\n",
    "        else:\n",
    "            break\n",
    "    data_string_arr.append(temp)\n",
    "    i = j\n",
    "    \n",
    "data_string_arr"
   ]
  },
  {
   "cell_type": "code",
   "execution_count": 123,
   "metadata": {},
   "outputs": [],
   "source": [
    "def get_data_string_arr(data_ind):\n",
    "    data_string_arr = []\n",
    "    i = 0\n",
    "    while i < len(b):\n",
    "        j = i\n",
    "        temp = []\n",
    "        while j < len(data_ind):\n",
    "            if data_ind[j][0] == data_ind[i][0]:\n",
    "                temp.append(data_ind[j])\n",
    "                j += 1\n",
    "            else:\n",
    "                break\n",
    "        data_string_arr.append(temp)\n",
    "        i = j\n",
    "        \n",
    "    return data_string_arr\n",
    "\n",
    "def arrange_lattice_info_correct_order(top, bottom, left, right, middle, distance):\n",
    "    final = top\n",
    "    i = 1\n",
    "    addRight = True\n",
    "    j = 0\n",
    "    while j < len(middle):\n",
    "        if i == distance and addRight and right:\n",
    "            final.append(right.pop(0))\n",
    "            addRight = False\n",
    "            i = 1\n",
    "        elif i == 1 and not addRight and left:\n",
    "            final.append(left.pop(0))\n",
    "            addRight = True\n",
    "            \n",
    "        else:    \n",
    "            final.append(middle[j])\n",
    "            j += 1\n",
    "            i += 1\n",
    "        \n",
    "    for b in bottom:\n",
    "        final.append(b)\n",
    "        \n",
    "    return final"
   ]
  },
  {
   "cell_type": "code",
   "execution_count": 135,
   "metadata": {},
   "outputs": [
    {
     "data": {
      "text/plain": [
       "[(-0.5, 0.5),\n",
       " (-0.5, 2.5),\n",
       " (0.5, 0.5),\n",
       " (0.5, 1.5),\n",
       " (0.5, 2.5),\n",
       " (0.5, 3.5),\n",
       " (0.5, 4.5),\n",
       " (1.5, -0.5),\n",
       " (1.5, 0.5),\n",
       " (1.5, 1.5),\n",
       " (1.5, 2.5),\n",
       " (1.5, 3.5),\n",
       " (2.5, 4.5),\n",
       " (3.5, -0.5),\n",
       " (2.5, 0.5),\n",
       " (2.5, 1.5),\n",
       " (2.5, 2.5),\n",
       " (2.5, 3.5),\n",
       " (3.5, 0.5),\n",
       " (3.5, 1.5),\n",
       " (3.5, 2.5),\n",
       " (3.5, 3.5),\n",
       " (4.5, 1.5),\n",
       " (4.5, 3.5)]"
      ]
     },
     "execution_count": 135,
     "metadata": {},
     "output_type": "execute_result"
    }
   ],
   "source": [
    "import networkx as nx\n",
    "\n",
    "def lattice():\n",
    "    top = []\n",
    "    right = []\n",
    "    bottom = []\n",
    "    left = []\n",
    "    middle = []\n",
    "    \n",
    "    data_string_arr = []\n",
    "    i = 0\n",
    "    \n",
    "    d = 5\n",
    "    data_string = nx.Graph()\n",
    "    syndrome_string = nx.Graph()\n",
    "    \n",
    "    for i in range(0, d):\n",
    "        for j in range(0, d):\n",
    "            data_string.add_node((i, j))\n",
    "    data_ind = list(data_string.nodes)\n",
    "    data_string_arr = get_data_string_arr(data_ind)\n",
    "    \n",
    "    for i in range(len(data_string_arr)):\n",
    "        for j in range(len(data_string_arr[0])):\n",
    "            if j == len(data_string_arr[0]) - 1:\n",
    "                if i < len(data_string_arr) - 1 and i % 2 == 0:\n",
    "                    right.append([data_string_arr[i][j][0] + 0.5, data_string_arr[i][j][1] + 0.5])\n",
    "                    \n",
    "            if i == 0:\n",
    "                if j < len(data_string_arr[0]) - 1 and j % 2 == 0:\n",
    "                    top.append([data_string_arr[i][j][0]- 0.5, data_string_arr[i][j][1] + 0.5])\n",
    "                                \n",
    "            if i == len(data_string_arr) - 1:\n",
    "                if j < len(data_string_arr[0]) - 1 and j % 2 != 0:\n",
    "                    bottom.append([data_string_arr[i][j][0] + 0.5, data_string_arr[i][j][1] + 0.5])\n",
    "            if j == 0:\n",
    "                if i < len(data_string_arr) - 1  and i % 2 != 0:\n",
    "                    left.append([data_string_arr[i][j][0] + 0.5, data_string_arr[i][j][1] - 0.5])\n",
    "                    \n",
    "    for i in range(1, len(data_string_arr)):\n",
    "        for j in range(len(data_string_arr[0]) - 1):\n",
    "            middle.append([data_string_arr[i][j][0] - 0.5, data_string_arr[i][j + 1][1] - 0.5])\n",
    "\n",
    "    lattice_arr = arrange_lattice_info_correct_order(top, bottom, left, right, middle, d)\n",
    "    \n",
    "    for l in lattice_arr:\n",
    "        syndrome_string.add_node(tuple(l))\n",
    "        \n",
    "    return [list(syndrome_string), data_ind]\n",
    "\n",
    "lattice()[0]"
   ]
  },
  {
   "cell_type": "code",
   "execution_count": 136,
   "metadata": {},
   "outputs": [
    {
     "data": {
      "text/plain": [
       "[(-0.5, 0.5),\n",
       " (-0.5, 2.5),\n",
       " (0.5, 0.5),\n",
       " (0.5, 1.5),\n",
       " (0.5, 2.5),\n",
       " (0.5, 3.5),\n",
       " (0.5, 4.5),\n",
       " (1.5, -0.5),\n",
       " (1.5, 0.5),\n",
       " (1.5, 1.5),\n",
       " (1.5, 2.5),\n",
       " (1.5, 3.5),\n",
       " (2.5, 0.5),\n",
       " (2.5, 1.5),\n",
       " (2.5, 2.5),\n",
       " (2.5, 3.5),\n",
       " (2.5, 4.5),\n",
       " (3.5, -0.5),\n",
       " (3.5, 0.5),\n",
       " (3.5, 1.5),\n",
       " (3.5, 2.5),\n",
       " (3.5, 3.5),\n",
       " (4.5, 1.5),\n",
       " (4.5, 3.5)]"
      ]
     },
     "execution_count": 136,
     "metadata": {},
     "output_type": "execute_result"
    }
   ],
   "source": [
    "code.lattice()[0]"
   ]
  },
  {
   "cell_type": "code",
   "execution_count": 7,
   "metadata": {},
   "outputs": [
    {
     "data": {
      "text/plain": [
       "array([[1, 0, 0, 0],\n",
       "       [0, 1, 0, 0],\n",
       "       [0, 0, 0, 1],\n",
       "       [0, 0, 1, 0]])"
      ]
     },
     "execution_count": 7,
     "metadata": {},
     "output_type": "execute_result"
    }
   ],
   "source": [
    "import numpy as np\n",
    "z = np.array([[1,0],[0,-1]]\n",
    ")\n",
    "\n",
    "i = np.array([[1,0],[0,1]])\n",
    "cnot = np.array([[1,0,0,0],[0,1,0,0],[0,0,0,1],[0,0,1,0]])\n",
    "\n",
    "np.matmul(np.kron(z,i), np.matmul(cnot, np.kron(z,i)))"
   ]
  },
  {
   "cell_type": "code",
   "execution_count": null,
   "metadata": {},
   "outputs": [],
   "source": []
  }
 ],
 "metadata": {
  "kernelspec": {
   "display_name": "Python 3",
   "language": "python",
   "name": "python3"
  },
  "language_info": {
   "codemirror_mode": {
    "name": "ipython",
    "version": 3
   },
   "file_extension": ".py",
   "mimetype": "text/x-python",
   "name": "python",
   "nbconvert_exporter": "python",
   "pygments_lexer": "ipython3",
   "version": "3.10.7"
  },
  "orig_nbformat": 4
 },
 "nbformat": 4,
 "nbformat_minor": 2
}
